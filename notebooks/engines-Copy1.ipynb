{
 "cells": [
  {
   "cell_type": "code",
   "execution_count": 1,
   "metadata": {},
   "outputs": [],
   "source": [
    "import sys; sys.path.append('..'); from cadence.imports import *; import cadence as cd"
   ]
  },
  {
   "cell_type": "code",
   "execution_count": 2,
   "metadata": {},
   "outputs": [],
   "source": [
    "txt=\"\"\"In Xanadu did Kubla Khan\n",
    "A stately pleasure-dome decree:\n",
    "Where Alph, the sacred river, ran\n",
    "Through caverns measureless to man\n",
    "   Down to a sunless sea.\n",
    "\"\"\""
   ]
  },
  {
   "cell_type": "code",
   "execution_count": 3,
   "metadata": {},
   "outputs": [],
   "source": [
    "# # %%timeit\n",
    "# parse(txt.split('\\n')[0])"
   ]
  },
  {
   "cell_type": "code",
   "execution_count": 4,
   "metadata": {},
   "outputs": [],
   "source": [
    "# scandf=cd.scan(txt)\n",
    "# scandf.loc[scandf.query('syll_ipa')]"
   ]
  },
  {
   "cell_type": "code",
   "execution_count": 5,
   "metadata": {},
   "outputs": [],
   "source": [
    "# parsedf=cd.parse(scandf)"
   ]
  },
  {
   "cell_type": "code",
   "execution_count": 6,
   "metadata": {},
   "outputs": [],
   "source": [
    "# parsedf.query('line_i==1').head(30)"
   ]
  },
  {
   "cell_type": "code",
   "execution_count": 7,
   "metadata": {},
   "outputs": [],
   "source": [
    "# !espeak"
   ]
  },
  {
   "cell_type": "code",
   "execution_count": 8,
   "metadata": {},
   "outputs": [],
   "source": [
    "import sys; sys.path.append('../../prosodic')\n",
    "import prosodic as p"
   ]
  },
  {
   "cell_type": "code",
   "execution_count": 9,
   "metadata": {},
   "outputs": [],
   "source": []
  },
  {
   "cell_type": "code",
   "execution_count": 10,
   "metadata": {},
   "outputs": [],
   "source": [
    "# # %%timeit\n",
    "# t=p.Text(txt.split('\\n')[0])\n",
    "# t.parse(meter='default_english')\n",
    "# # print(t.report())"
   ]
  },
  {
   "cell_type": "code",
   "execution_count": 11,
   "metadata": {},
   "outputs": [],
   "source": [
    "# t.words()[0].children[0]"
   ]
  },
  {
   "cell_type": "code",
   "execution_count": null,
   "metadata": {},
   "outputs": [],
   "source": []
  },
  {
   "cell_type": "code",
   "execution_count": 12,
   "metadata": {},
   "outputs": [],
   "source": [
    "# d=p.dict['en']\n",
    "# d.make??"
   ]
  },
  {
   "cell_type": "code",
   "execution_count": 14,
   "metadata": {},
   "outputs": [],
   "source": [
    "# l=p.Line()\n",
    "# l.children = [\n",
    "#     p.WordToken([d.make((\"'zæ.nə.dʉː\",None),\"xanadu\")], 'xanadu'),\n",
    "#     p.WordToken([d.make((\"'zæ.nə.dʉː\",None),\"xanadu\")], 'xanadu'),\n",
    "# ]\n",
    "# l.parse(meter=p.config['meters']['default_english'])\n",
    "# l.bestParse()"
   ]
  },
  {
   "cell_type": "code",
   "execution_count": 13,
   "metadata": {},
   "outputs": [],
   "source": [
    "# cd.scan(txt)"
   ]
  },
  {
   "cell_type": "code",
   "execution_count": 16,
   "metadata": {},
   "outputs": [],
   "source": []
  },
  {
   "cell_type": "code",
   "execution_count": 15,
   "metadata": {},
   "outputs": [],
   "source": [
    "def parse_prosodic(txt_or_txtdf, lang='en', meter='default_english', use_espeak=True):\n",
    "    import prosodic as p\n",
    "    p.config['resolve_optionality']=0\n",
    "    p.config['print_to_screen']=True\n",
    "    p.config['en_TTS_ENGINE']='espeak' if use_espeak else 'none'\n",
    "    \n",
    "    txtdf = scan(txt_or_txtdf) if type(txt_or_txtdf)==str else txt_or_txtdf\n",
    "    txtdf = txtdf.sort_index()\n",
    "    for combodf in iter_combos(txtdf):\n",
    "        words=[]\n",
    "        for wi,wdf in combodf.reset_index().groupby('word_i'):\n",
    "            ipa_str='.'.join(wdf.syll_ipa)\n",
    "            sylls_text=list(wdf.syll_str)\n",
    "            token = wdf.iloc[0].word_str\n",
    "            word_obj = p.dict[lang].make((ipa_str,sylls_text), token)\n",
    "            wordtoken_obj = p.WordToken([word_obj], token)\n",
    "            words.append(wordtoken_obj)\n",
    "        \n",
    "        l=p.Line()\n",
    "        l.children = words\n",
    "        l.parse(meter=p.config['meters'][meter])\n",
    "        #print(l.bestParse())\n",
    "        \n",
    "        "
   ]
  },
  {
   "cell_type": "code",
   "execution_count": 16,
   "metadata": {},
   "outputs": [],
   "source": [
    "# %%timeit\n",
    "# parse_prosodic(txt)"
   ]
  },
  {
   "cell_type": "code",
   "execution_count": 17,
   "metadata": {},
   "outputs": [],
   "source": [
    "# %%timeit\n",
    "# parse(txt)"
   ]
  },
  {
   "cell_type": "code",
   "execution_count": 20,
   "metadata": {},
   "outputs": [],
   "source": [
    "p.config['print_to_screen']=False\n"
   ]
  },
  {
   "cell_type": "code",
   "execution_count": 21,
   "metadata": {},
   "outputs": [
    {
     "name": "stdout",
     "output_type": "stream",
     "text": [
      "75.7 ms ± 2.64 ms per loop (mean ± std. dev. of 7 runs, 10 loops each)\n"
     ]
    }
   ],
   "source": [
    "%%timeit\n",
    "scan(txt)"
   ]
  },
  {
   "cell_type": "code",
   "execution_count": 22,
   "metadata": {},
   "outputs": [
    {
     "name": "stdout",
     "output_type": "stream",
     "text": [
      "6.59 ms ± 2.56 ms per loop (mean ± std. dev. of 7 runs, 100 loops each)\n"
     ]
    }
   ],
   "source": [
    "%%timeit\n",
    "p.Text(txt)"
   ]
  },
  {
   "cell_type": "code",
   "execution_count": null,
   "metadata": {},
   "outputs": [],
   "source": []
  },
  {
   "cell_type": "code",
   "execution_count": null,
   "metadata": {},
   "outputs": [],
   "source": []
  },
  {
   "cell_type": "code",
   "execution_count": 141,
   "metadata": {},
   "outputs": [],
   "source": [
    "# p.WordToken??"
   ]
  },
  {
   "cell_type": "code",
   "execution_count": null,
   "metadata": {},
   "outputs": [],
   "source": []
  },
  {
   "cell_type": "code",
   "execution_count": 91,
   "metadata": {},
   "outputs": [
    {
     "data": {
      "text/plain": [
       "[<Word.virtue> ['vɛː.ʧuː]]"
      ]
     },
     "execution_count": 91,
     "metadata": {},
     "output_type": "execute_result"
    }
   ],
   "source": [
    "p.dict['en'].dict['Word']['virtue']"
   ]
  },
  {
   "cell_type": "code",
   "execution_count": 92,
   "metadata": {},
   "outputs": [
    {
     "data": {
      "text/plain": [
       "<bound method Dictionary.get of <Dictionary.Dictionary object at 0x10a498fd0>>"
      ]
     },
     "execution_count": 92,
     "metadata": {},
     "output_type": "execute_result"
    }
   ],
   "source": [
    "p.dict['en'].get"
   ]
  },
  {
   "cell_type": "code",
   "execution_count": null,
   "metadata": {},
   "outputs": [],
   "source": []
  }
 ],
 "metadata": {
  "interpreter": {
   "hash": "0adcc2737ebf6a4a119f135174df96668767fca1ef1112612db5ecadf2b6d608"
  },
  "kernelspec": {
   "display_name": "Python 3",
   "language": "python",
   "name": "python3"
  },
  "language_info": {
   "codemirror_mode": {
    "name": "ipython",
    "version": 3
   },
   "file_extension": ".py",
   "mimetype": "text/x-python",
   "name": "python",
   "nbconvert_exporter": "python",
   "pygments_lexer": "ipython3",
   "version": "3.8.3"
  }
 },
 "nbformat": 4,
 "nbformat_minor": 4
}
