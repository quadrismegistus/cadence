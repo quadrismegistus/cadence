{
  "cells": [
    {
      "cell_type": "code",
      "execution_count": 1,
      "metadata": {
        "id": "AuiIspXjlgBj"
      },
      "outputs": [],
      "source": [
        "import sys; sys.path.insert(0,'..')\n",
        "from cadence.imports import *\n",
        "!rm -rf {PATH_DB}"
      ]
    },
    {
      "cell_type": "code",
      "execution_count": 2,
      "metadata": {
        "id": "gvCTiWWsUA2r"
      },
      "outputs": [
        {
          "name": "stderr",
          "output_type": "stream",
          "text": [
            "2022-01-13 14:42:12 INFO: Loading these models for language: en (English):\n",
            "===========================\n",
            "| Processor    | Package  |\n",
            "---------------------------\n",
            "| tokenize     | combined |\n",
            "| pos          | combined |\n",
            "| lemma        | combined |\n",
            "| depparse     | combined |\n",
            "| constituency | wsj      |\n",
            "===========================\n",
            "\n",
            "2022-01-13 14:42:12 INFO: Use device: cpu\n",
            "2022-01-13 14:42:12 INFO: Loading: tokenize\n",
            "2022-01-13 14:42:12 INFO: Loading: pos\n",
            "2022-01-13 14:42:12 INFO: Loading: lemma\n",
            "2022-01-13 14:42:12 INFO: Loading: depparse\n",
            "2022-01-13 14:42:12 INFO: Loading: constituency\n",
            "2022-01-13 14:42:12 INFO: Done loading processors!\n"
          ]
        }
      ],
      "source": [
        "t = Prose('Boogledy boogledy doo! Hello world!',force=True)\n",
        "doc = t.para(1).doc()"
      ]
    },
    {
      "cell_type": "code",
      "execution_count": 3,
      "metadata": {},
      "outputs": [
        {
          "data": {
            "text/html": [
              "<div>\n",
              "<style scoped>\n",
              "    .dataframe tbody tr th:only-of-type {\n",
              "        vertical-align: middle;\n",
              "    }\n",
              "\n",
              "    .dataframe tbody tr th {\n",
              "        vertical-align: top;\n",
              "    }\n",
              "\n",
              "    .dataframe thead th {\n",
              "        text-align: right;\n",
              "    }\n",
              "</style>\n",
              "<table border=\"1\" class=\"dataframe\">\n",
              "  <thead>\n",
              "    <tr style=\"text-align: right;\">\n",
              "      <th></th>\n",
              "      <th></th>\n",
              "      <th></th>\n",
              "      <th></th>\n",
              "      <th>dep_head</th>\n",
              "      <th>dep_type</th>\n",
              "      <th>pos_degree</th>\n",
              "      <th>pos_number</th>\n",
              "      <th>pos_upos</th>\n",
              "      <th>pos_xpos</th>\n",
              "      <th>word_depth</th>\n",
              "    </tr>\n",
              "    <tr>\n",
              "      <th>para_i</th>\n",
              "      <th>sent_i</th>\n",
              "      <th>word_i</th>\n",
              "      <th>word_str</th>\n",
              "      <th></th>\n",
              "      <th></th>\n",
              "      <th></th>\n",
              "      <th></th>\n",
              "      <th></th>\n",
              "      <th></th>\n",
              "      <th></th>\n",
              "    </tr>\n",
              "  </thead>\n",
              "  <tbody>\n",
              "    <tr>\n",
              "      <th rowspan=\"5\" valign=\"top\">1</th>\n",
              "      <th rowspan=\"3\" valign=\"top\">1</th>\n",
              "      <th>1</th>\n",
              "      <th>Boogledy</th>\n",
              "      <td>2</td>\n",
              "      <td>amod</td>\n",
              "      <td>Pos</td>\n",
              "      <td></td>\n",
              "      <td>ADJ</td>\n",
              "      <td>JJ</td>\n",
              "      <td>4</td>\n",
              "    </tr>\n",
              "    <tr>\n",
              "      <th>2</th>\n",
              "      <th>boogledy</th>\n",
              "      <td>0</td>\n",
              "      <td>root</td>\n",
              "      <td></td>\n",
              "      <td>Sing</td>\n",
              "      <td>NOUN</td>\n",
              "      <td>NN</td>\n",
              "      <td>4</td>\n",
              "    </tr>\n",
              "    <tr>\n",
              "      <th>3</th>\n",
              "      <th>doo!</th>\n",
              "      <td>2</td>\n",
              "      <td>punct</td>\n",
              "      <td></td>\n",
              "      <td></td>\n",
              "      <td>PUNCT</td>\n",
              "      <td>.</td>\n",
              "      <td>3</td>\n",
              "    </tr>\n",
              "    <tr>\n",
              "      <th rowspan=\"2\" valign=\"top\">2</th>\n",
              "      <th>1</th>\n",
              "      <th>Hello</th>\n",
              "      <td>0</td>\n",
              "      <td>root</td>\n",
              "      <td></td>\n",
              "      <td></td>\n",
              "      <td>INTJ</td>\n",
              "      <td>UH</td>\n",
              "      <td>3</td>\n",
              "    </tr>\n",
              "    <tr>\n",
              "      <th>2</th>\n",
              "      <th>world!</th>\n",
              "      <td>1</td>\n",
              "      <td>vocative</td>\n",
              "      <td></td>\n",
              "      <td>Sing</td>\n",
              "      <td>PROPN</td>\n",
              "      <td>NNP</td>\n",
              "      <td>3</td>\n",
              "    </tr>\n",
              "  </tbody>\n",
              "</table>\n",
              "</div>"
            ],
            "text/plain": [
              "                               dep_head  dep_type  ... pos_xpos word_depth\n",
              "para_i sent_i word_i word_str                      ...                    \n",
              "1      1      1      Boogledy         2      amod  ...       JJ          4\n",
              "              2      boogledy         0      root  ...       NN          4\n",
              "              3      doo!             2     punct  ...        .          3\n",
              "       2      1      Hello            0      root  ...       UH          3\n",
              "              2      world!           1  vocative  ...      NNP          3\n",
              "\n",
              "[5 rows x 7 columns]"
            ]
          },
          "execution_count": 3,
          "metadata": {},
          "output_type": "execute_result"
        }
      ],
      "source": [
        "t.syntax()"
      ]
    },
    {
      "cell_type": "code",
      "execution_count": 4,
      "metadata": {},
      "outputs": [
        {
          "name": "stdout",
          "output_type": "stream",
          "text": [
            "(ROOT (NP (NP (JJ Boogledy) (NN boogledy)) (. doo!)))\n",
            "(ROOT (NP (UH Hello) (NNP world!)))\n"
          ]
        }
      ],
      "source": [
        "for sent in doc.sentences:\n",
        "    print(sent.constituency)"
      ]
    },
    {
      "cell_type": "code",
      "execution_count": 5,
      "metadata": {
        "colab": {
          "base_uri": "https://localhost:8080/"
        },
        "id": "4e0h078jZ3Ck",
        "outputId": "c5c630cb-28b3-42e5-da5e-0302db1ff591"
      },
      "outputs": [
        {
          "data": {
            "text/plain": [
              "[<Sentence #1: Boogledy boogledy doo!>, <Sentence #2:  Hello world!>]"
            ]
          },
          "execution_count": 5,
          "metadata": {},
          "output_type": "execute_result"
        }
      ],
      "source": [
        "x=t.sents()\n",
        "x"
      ]
    },
    {
      "cell_type": "code",
      "execution_count": 6,
      "metadata": {
        "colab": {
          "base_uri": "https://localhost:8080/"
        },
        "id": "TUMWu-2-sxMI",
        "outputId": "b3025002-4b5f-4b42-bc1b-66cf8a5b95f8"
      },
      "outputs": [
        {
          "data": {
            "text/plain": [
              "'Boogledy boogledy doo!'"
            ]
          },
          "execution_count": 6,
          "metadata": {},
          "output_type": "execute_result"
        }
      ],
      "source": [
        "t.sent(1).txt"
      ]
    },
    {
      "cell_type": "code",
      "execution_count": 7,
      "metadata": {
        "colab": {
          "base_uri": "https://localhost:8080/",
          "height": 53
        },
        "id": "wRChcxMMsbv1",
        "outputId": "32ed5eb5-d655-4cf2-9d4b-a372f418c23e"
      },
      "outputs": [
        {
          "data": {
            "text/plain": [
              "' Hello world!'"
            ]
          },
          "execution_count": 7,
          "metadata": {},
          "output_type": "execute_result"
        }
      ],
      "source": [
        "t.sent(2).txt"
      ]
    },
    {
      "cell_type": "code",
      "execution_count": 8,
      "metadata": {
        "colab": {
          "base_uri": "https://localhost:8080/"
        },
        "id": "ckoUdwRdu-_Z",
        "outputId": "8f6d3830-51de-434a-b3e8-b598c52f53e9"
      },
      "outputs": [
        {
          "name": "stderr",
          "output_type": "stream",
          "text": [
            "\n",
            "[cadence] A word unknown to the pronunciation dictionary (\"boogledy\") cannot be syllabified because espeak text-to-speech software is not installed. It is highly recommend you install this software.\n",
            "\n",
            "To install:\n",
            "\n",
            "    * On Linux, type into the terminal:\n",
            "        apt-get install espeak\n",
            "    \n",
            "    * On Mac:\n",
            "        (1) Install homebrew if not already installed. Paste into Terminal app:\n",
            "            /bin/bash -c \"$(curl -fsSL https://raw.githubusercontent.com/Homebrew/install/HEAD/install.sh)\"\n",
            "\n",
            "        (2) Type into the Terminal app:\n",
            "            brew install espeak\n",
            "    \n",
            "    * On Windows:\n",
            "        Download and install from http://espeak.sourceforge.net/download.html.\n",
            "\n"
          ]
        }
      ],
      "source": [
        "t.sent(1).mtree()"
      ]
    },
    {
      "cell_type": "code",
      "execution_count": 9,
      "metadata": {},
      "outputs": [
        {
          "data": {
            "image/svg+xml": "<svg baseProfile=\"full\" height=\"168px\" preserveAspectRatio=\"xMidYMid meet\" style=\"font-family: times, serif; font-weight:normal; font-style: normal; font-size: 16px;\" version=\"1.1\" viewBox=\"0,0,120.0,168.0\" width=\"120px\" xmlns=\"http://www.w3.org/2000/svg\" xmlns:ev=\"http://www.w3.org/2001/xml-events\" xmlns:xlink=\"http://www.w3.org/1999/xlink\"><defs /><svg width=\"100%\" x=\"0\" y=\"0em\"><defs /><text text-anchor=\"middle\" x=\"50%\" y=\"1em\">ROOT/0</text></svg><svg width=\"100%\" x=\"0%\" y=\"3em\"><defs /><svg width=\"100%\" x=\"0\" y=\"0em\"><defs /><text text-anchor=\"middle\" x=\"50%\" y=\"1em\">NP/0</text></svg><svg width=\"46.6667%\" x=\"0%\" y=\"3em\"><defs /><svg width=\"100%\" x=\"0\" y=\"0em\"><defs /><text text-anchor=\"middle\" x=\"50%\" y=\"1em\">UH/0</text></svg><svg width=\"100%\" x=\"0%\" y=\"3em\"><defs /><svg width=\"100%\" x=\"0\" y=\"0em\"><defs /><text text-anchor=\"middle\" x=\"50%\" y=\"1em\">Hello</text></svg></svg><line stroke=\"black\" x1=\"50%\" x2=\"50%\" y1=\"1.2em\" y2=\"3em\" /></svg><line stroke=\"black\" x1=\"50%\" x2=\"23.3333%\" y1=\"1.2em\" y2=\"3em\" /><svg width=\"53.3333%\" x=\"46.6667%\" y=\"3em\"><defs /><svg width=\"100%\" x=\"0\" y=\"0em\"><defs /><text text-anchor=\"middle\" x=\"50%\" y=\"1em\">NNP/0</text></svg><svg width=\"100%\" x=\"0%\" y=\"3em\"><defs /><svg width=\"100%\" x=\"0\" y=\"0em\"><defs /><text text-anchor=\"middle\" x=\"50%\" y=\"1em\">world!</text></svg></svg><line stroke=\"black\" x1=\"50%\" x2=\"50%\" y1=\"1.2em\" y2=\"3em\" /></svg><line stroke=\"black\" x1=\"50%\" x2=\"73.3333%\" y1=\"1.2em\" y2=\"3em\" /></svg><line stroke=\"black\" x1=\"50%\" x2=\"50%\" y1=\"1.2em\" y2=\"3em\" /></svg>",
            "text/plain": [
              "CadenceMetricalTree('ROOT/0', [CadenceMetricalTree('NP/0', [CadenceMetricalTree('UH/0', ['Hello']), CadenceMetricalTree('NNP/0', ['world!'])])])"
            ]
          },
          "execution_count": 9,
          "metadata": {},
          "output_type": "execute_result"
        }
      ],
      "source": [
        "t.sent(2).mtree()"
      ]
    },
    {
      "cell_type": "code",
      "execution_count": 10,
      "metadata": {
        "colab": {
          "base_uri": "https://localhost:8080/",
          "height": 224
        },
        "id": "l-4pAsC1hDXX",
        "outputId": "bb3df8d4-d158-4738-af52-306f6ee4e0ac"
      },
      "outputs": [
        {
          "data": {
            "text/html": [
              "<div>\n",
              "<style scoped>\n",
              "    .dataframe tbody tr th:only-of-type {\n",
              "        vertical-align: middle;\n",
              "    }\n",
              "\n",
              "    .dataframe tbody tr th {\n",
              "        vertical-align: top;\n",
              "    }\n",
              "\n",
              "    .dataframe thead th {\n",
              "        text-align: right;\n",
              "    }\n",
              "</style>\n",
              "<table border=\"1\" class=\"dataframe\">\n",
              "  <thead>\n",
              "    <tr style=\"text-align: right;\">\n",
              "      <th></th>\n",
              "      <th></th>\n",
              "      <th></th>\n",
              "      <th></th>\n",
              "      <th>dep_head</th>\n",
              "      <th>dep_type</th>\n",
              "      <th>pos_degree</th>\n",
              "      <th>pos_number</th>\n",
              "      <th>pos_upos</th>\n",
              "      <th>pos_xpos</th>\n",
              "      <th>word_depth</th>\n",
              "    </tr>\n",
              "    <tr>\n",
              "      <th>para_i</th>\n",
              "      <th>sent_i</th>\n",
              "      <th>word_i</th>\n",
              "      <th>word_str</th>\n",
              "      <th></th>\n",
              "      <th></th>\n",
              "      <th></th>\n",
              "      <th></th>\n",
              "      <th></th>\n",
              "      <th></th>\n",
              "      <th></th>\n",
              "    </tr>\n",
              "  </thead>\n",
              "  <tbody>\n",
              "    <tr>\n",
              "      <th rowspan=\"5\" valign=\"top\">1</th>\n",
              "      <th rowspan=\"3\" valign=\"top\">1</th>\n",
              "      <th>1</th>\n",
              "      <th>Boogledy</th>\n",
              "      <td>2</td>\n",
              "      <td>amod</td>\n",
              "      <td>Pos</td>\n",
              "      <td></td>\n",
              "      <td>ADJ</td>\n",
              "      <td>JJ</td>\n",
              "      <td>4</td>\n",
              "    </tr>\n",
              "    <tr>\n",
              "      <th>2</th>\n",
              "      <th>boogledy</th>\n",
              "      <td>0</td>\n",
              "      <td>root</td>\n",
              "      <td></td>\n",
              "      <td>Sing</td>\n",
              "      <td>NOUN</td>\n",
              "      <td>NN</td>\n",
              "      <td>4</td>\n",
              "    </tr>\n",
              "    <tr>\n",
              "      <th>3</th>\n",
              "      <th>doo!</th>\n",
              "      <td>2</td>\n",
              "      <td>punct</td>\n",
              "      <td></td>\n",
              "      <td></td>\n",
              "      <td>PUNCT</td>\n",
              "      <td>.</td>\n",
              "      <td>3</td>\n",
              "    </tr>\n",
              "    <tr>\n",
              "      <th rowspan=\"2\" valign=\"top\">2</th>\n",
              "      <th>1</th>\n",
              "      <th>Hello</th>\n",
              "      <td>0</td>\n",
              "      <td>root</td>\n",
              "      <td></td>\n",
              "      <td></td>\n",
              "      <td>INTJ</td>\n",
              "      <td>UH</td>\n",
              "      <td>3</td>\n",
              "    </tr>\n",
              "    <tr>\n",
              "      <th>2</th>\n",
              "      <th>world!</th>\n",
              "      <td>1</td>\n",
              "      <td>vocative</td>\n",
              "      <td></td>\n",
              "      <td>Sing</td>\n",
              "      <td>PROPN</td>\n",
              "      <td>NNP</td>\n",
              "      <td>3</td>\n",
              "    </tr>\n",
              "  </tbody>\n",
              "</table>\n",
              "</div>"
            ],
            "text/plain": [
              "                               dep_head  dep_type  ... pos_xpos word_depth\n",
              "para_i sent_i word_i word_str                      ...                    \n",
              "1      1      1      Boogledy         2      amod  ...       JJ          4\n",
              "              2      boogledy         0      root  ...       NN          4\n",
              "              3      doo!             2     punct  ...        .          3\n",
              "       2      1      Hello            0      root  ...       UH          3\n",
              "              2      world!           1  vocative  ...      NNP          3\n",
              "\n",
              "[5 rows x 7 columns]"
            ]
          },
          "execution_count": 10,
          "metadata": {},
          "output_type": "execute_result"
        }
      ],
      "source": [
        "t.syntax()"
      ]
    },
    {
      "cell_type": "code",
      "execution_count": 11,
      "metadata": {
        "colab": {
          "base_uri": "https://localhost:8080/",
          "height": 663
        },
        "id": "uTnYCxAIsCJH",
        "outputId": "3fc25e99-f268-4993-b6f3-1be0139b07ad"
      },
      "outputs": [
        {
          "data": {
            "text/html": [
              "<div>\n",
              "<style scoped>\n",
              "    .dataframe tbody tr th:only-of-type {\n",
              "        vertical-align: middle;\n",
              "    }\n",
              "\n",
              "    .dataframe tbody tr th {\n",
              "        vertical-align: top;\n",
              "    }\n",
              "\n",
              "    .dataframe thead th {\n",
              "        text-align: right;\n",
              "    }\n",
              "</style>\n",
              "<table border=\"1\" class=\"dataframe\">\n",
              "  <thead>\n",
              "    <tr style=\"text-align: right;\">\n",
              "      <th></th>\n",
              "      <th></th>\n",
              "      <th></th>\n",
              "      <th></th>\n",
              "      <th></th>\n",
              "      <th></th>\n",
              "      <th></th>\n",
              "      <th></th>\n",
              "      <th></th>\n",
              "      <th></th>\n",
              "      <th></th>\n",
              "      <th></th>\n",
              "      <th></th>\n",
              "      <th></th>\n",
              "      <th></th>\n",
              "      <th>prom_strength</th>\n",
              "      <th>prom_stress</th>\n",
              "      <th>prom_weight</th>\n",
              "      <th>word_isfunc</th>\n",
              "      <th>word_nsyll</th>\n",
              "    </tr>\n",
              "    <tr>\n",
              "      <th>para_i</th>\n",
              "      <th>sent_i</th>\n",
              "      <th>sentpart_i</th>\n",
              "      <th>line_i</th>\n",
              "      <th>word_i</th>\n",
              "      <th>word_pref</th>\n",
              "      <th>word_str</th>\n",
              "      <th>word_tok</th>\n",
              "      <th>word_ipa_i</th>\n",
              "      <th>word_ipa</th>\n",
              "      <th>syll_i</th>\n",
              "      <th>syll_str</th>\n",
              "      <th>syll_ipa</th>\n",
              "      <th>syll_stress</th>\n",
              "      <th>syll_weight</th>\n",
              "      <th></th>\n",
              "      <th></th>\n",
              "      <th></th>\n",
              "      <th></th>\n",
              "      <th></th>\n",
              "    </tr>\n",
              "  </thead>\n",
              "  <tbody>\n",
              "    <tr>\n",
              "      <th rowspan=\"6\" valign=\"top\">1</th>\n",
              "      <th rowspan=\"3\" valign=\"top\">1</th>\n",
              "      <th rowspan=\"3\" valign=\"top\">1</th>\n",
              "      <th rowspan=\"3\" valign=\"top\">1</th>\n",
              "      <th>1</th>\n",
              "      <th></th>\n",
              "      <th>Boogledy</th>\n",
              "      <th>boogledy</th>\n",
              "      <th>NaN</th>\n",
              "      <th>NaN</th>\n",
              "      <th>NaN</th>\n",
              "      <th>NaN</th>\n",
              "      <th>NaN</th>\n",
              "      <th>NaN</th>\n",
              "      <th>NaN</th>\n",
              "      <td>NaN</td>\n",
              "      <td>NaN</td>\n",
              "      <td>NaN</td>\n",
              "      <td>NaN</td>\n",
              "      <td>NaN</td>\n",
              "    </tr>\n",
              "    <tr>\n",
              "      <th>2</th>\n",
              "      <th></th>\n",
              "      <th>boogledy</th>\n",
              "      <th>boogledy</th>\n",
              "      <th>NaN</th>\n",
              "      <th>NaN</th>\n",
              "      <th>NaN</th>\n",
              "      <th>NaN</th>\n",
              "      <th>NaN</th>\n",
              "      <th>NaN</th>\n",
              "      <th>NaN</th>\n",
              "      <td>NaN</td>\n",
              "      <td>NaN</td>\n",
              "      <td>NaN</td>\n",
              "      <td>NaN</td>\n",
              "      <td>NaN</td>\n",
              "    </tr>\n",
              "    <tr>\n",
              "      <th>3</th>\n",
              "      <th></th>\n",
              "      <th>doo!</th>\n",
              "      <th>doo</th>\n",
              "      <th>1.0</th>\n",
              "      <th>'duː</th>\n",
              "      <th>1.0</th>\n",
              "      <th>doo</th>\n",
              "      <th>'duː</th>\n",
              "      <th>P</th>\n",
              "      <th>L</th>\n",
              "      <td>NaN</td>\n",
              "      <td>1.0</td>\n",
              "      <td>0.0</td>\n",
              "      <td>0.0</td>\n",
              "      <td>1.0</td>\n",
              "    </tr>\n",
              "    <tr>\n",
              "      <th rowspan=\"3\" valign=\"top\">2</th>\n",
              "      <th rowspan=\"3\" valign=\"top\">2</th>\n",
              "      <th rowspan=\"3\" valign=\"top\">1</th>\n",
              "      <th rowspan=\"2\" valign=\"top\">1</th>\n",
              "      <th rowspan=\"2\" valign=\"top\"></th>\n",
              "      <th rowspan=\"2\" valign=\"top\">Hello</th>\n",
              "      <th rowspan=\"2\" valign=\"top\">hello</th>\n",
              "      <th rowspan=\"2\" valign=\"top\">1.0</th>\n",
              "      <th rowspan=\"2\" valign=\"top\">hə.'loʊ</th>\n",
              "      <th>1.0</th>\n",
              "      <th>hel</th>\n",
              "      <th>hə</th>\n",
              "      <th>U</th>\n",
              "      <th>L</th>\n",
              "      <td>0.0</td>\n",
              "      <td>0.0</td>\n",
              "      <td>0.0</td>\n",
              "      <td>0.0</td>\n",
              "      <td>2.0</td>\n",
              "    </tr>\n",
              "    <tr>\n",
              "      <th>2.0</th>\n",
              "      <th>lo</th>\n",
              "      <th>'loʊ</th>\n",
              "      <th>P</th>\n",
              "      <th>H</th>\n",
              "      <td>1.0</td>\n",
              "      <td>1.0</td>\n",
              "      <td>1.0</td>\n",
              "      <td>0.0</td>\n",
              "      <td>2.0</td>\n",
              "    </tr>\n",
              "    <tr>\n",
              "      <th>2</th>\n",
              "      <th></th>\n",
              "      <th>world!</th>\n",
              "      <th>world</th>\n",
              "      <th>1.0</th>\n",
              "      <th>'wɛːld</th>\n",
              "      <th>1.0</th>\n",
              "      <th>world</th>\n",
              "      <th>'wɛːld</th>\n",
              "      <th>P</th>\n",
              "      <th>H</th>\n",
              "      <td>NaN</td>\n",
              "      <td>1.0</td>\n",
              "      <td>1.0</td>\n",
              "      <td>0.0</td>\n",
              "      <td>1.0</td>\n",
              "    </tr>\n",
              "  </tbody>\n",
              "</table>\n",
              "</div>"
            ],
            "text/plain": [
              "                                                                                                                                         prom_strength  ...  word_nsyll\n",
              "para_i sent_i sentpart_i line_i word_i word_pref word_str word_tok word_ipa_i word_ipa syll_i syll_str syll_ipa syll_stress syll_weight                 ...            \n",
              "1      1      1          1      1                Boogledy boogledy NaN        NaN      NaN    NaN      NaN      NaN         NaN                    NaN  ...         NaN\n",
              "                                2                boogledy boogledy NaN        NaN      NaN    NaN      NaN      NaN         NaN                    NaN  ...         NaN\n",
              "                                3                doo!     doo      1.0        'duː     1.0    doo      'duː     P           L                      NaN  ...         1.0\n",
              "       2      2          1      1                Hello    hello    1.0        hə.'loʊ  1.0    hel      hə       U           L                      0.0  ...         2.0\n",
              "                                                                                       2.0    lo       'loʊ     P           H                      1.0  ...         2.0\n",
              "                                2                world!   world    1.0        'wɛːld   1.0    world    'wɛːld   P           H                      NaN  ...         1.0\n",
              "\n",
              "[6 rows x 5 columns]"
            ]
          },
          "execution_count": 11,
          "metadata": {},
          "output_type": "execute_result"
        }
      ],
      "source": [
        "t.sylls()"
      ]
    },
    {
      "cell_type": "code",
      "execution_count": 12,
      "metadata": {
        "colab": {
          "base_uri": "https://localhost:8080/",
          "height": 305
        },
        "id": "ZfOxXbZmZ5bH",
        "outputId": "61a08ca2-1850-47f5-a906-b42a8cd54062"
      },
      "outputs": [
        {
          "name": "stderr",
          "output_type": "stream",
          "text": [
            "Metrically parsing line units [x1]: 100%|██████████| 2/2 [00:00<00:00, 290.83it/s]\n"
          ]
        },
        {
          "data": {
            "text/html": [
              "<div>\n",
              "<style scoped>\n",
              "    .dataframe tbody tr th:only-of-type {\n",
              "        vertical-align: middle;\n",
              "    }\n",
              "\n",
              "    .dataframe tbody tr th {\n",
              "        vertical-align: top;\n",
              "    }\n",
              "\n",
              "    .dataframe thead th {\n",
              "        text-align: right;\n",
              "    }\n",
              "</style>\n",
              "<table border=\"1\" class=\"dataframe\">\n",
              "  <thead>\n",
              "    <tr style=\"text-align: right;\">\n",
              "      <th></th>\n",
              "      <th>para_i</th>\n",
              "    </tr>\n",
              "  </thead>\n",
              "  <tbody>\n",
              "  </tbody>\n",
              "</table>\n",
              "</div>"
            ],
            "text/plain": [
              "Empty DataFrame\n",
              "Columns: [para_i]\n",
              "Index: []"
            ]
          },
          "execution_count": 12,
          "metadata": {},
          "output_type": "execute_result"
        }
      ],
      "source": [
        "t.parse()"
      ]
    },
    {
      "cell_type": "code",
      "execution_count": null,
      "metadata": {},
      "outputs": [],
      "source": []
    }
  ],
  "metadata": {
    "accelerator": "GPU",
    "colab": {
      "collapsed_sections": [],
      "name": "Untitled57.ipynb",
      "provenance": []
    },
    "kernelspec": {
      "display_name": "Python 3",
      "name": "python3"
    },
    "language_info": {
      "codemirror_mode": {
        "name": "ipython",
        "version": 3
      },
      "file_extension": ".py",
      "mimetype": "text/x-python",
      "name": "python",
      "nbconvert_exporter": "python",
      "pygments_lexer": "ipython3",
      "version": "3.8.11"
    }
  },
  "nbformat": 4,
  "nbformat_minor": 0
}
