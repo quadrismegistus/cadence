{
 "cells": [
  {
   "cell_type": "code",
   "execution_count": 1,
   "id": "3c19eeda",
   "metadata": {},
   "outputs": [],
   "source": [
    "#!pip install git+https://github.com/Jwink3101/parmapper"
   ]
  },
  {
   "cell_type": "code",
   "execution_count": 7,
   "id": "1dd92eba",
   "metadata": {},
   "outputs": [],
   "source": [
    "import sys; sys.path.append('..')\n",
    "import random\n",
    "import cadence as cd\n",
    "import lltk\n",
    "C=lltk.load('TedJDH')\n",
    "t=random.choice([t for t in C.texts() if t.medium=='Poetry'])\n",
    "txt=t.txt"
   ]
  },
  {
   "cell_type": "code",
   "execution_count": 8,
   "id": "7786c1c6",
   "metadata": {},
   "outputs": [
    {
     "name": "stderr",
     "output_type": "stream",
     "text": [
      "Iterating over line scansions [x4]: 100%|██████████| 380/380 [00:13<00:00, 27.66it/s]\n",
      "Iterating over line scansions [x4]: 100%|██████████| 380/380 [00:01<00:00, 211.49it/s]\n",
      "Iterating over line scansions [x4]: 100%|██████████| 380/380 [00:01<00:00, 191.78it/s]\n",
      "Iterating over line scansions [x4]: 100%|██████████| 380/380 [00:01<00:00, 228.44it/s]\n",
      "Iterating over line scansions [x4]: 100%|██████████| 380/380 [00:01<00:00, 217.97it/s]\n",
      "Iterating over line scansions [x4]: 100%|██████████| 380/380 [00:01<00:00, 210.86it/s]\n",
      "Iterating over line scansions [x4]: 100%|██████████| 380/380 [00:01<00:00, 201.11it/s]\n",
      "Iterating over line scansions [x4]: 100%|██████████| 380/380 [00:02<00:00, 175.40it/s]"
     ]
    },
    {
     "name": "stdout",
     "output_type": "stream",
     "text": [
      "1.9 s ± 157 ms per loop (mean ± std. dev. of 7 runs, 1 loop each)\n"
     ]
    },
    {
     "name": "stderr",
     "output_type": "stream",
     "text": [
      "\n"
     ]
    }
   ],
   "source": [
    "%%timeit\n",
    "for x in cd.scan_iter(\n",
    "        txt,#[:10000],\n",
    "        num_proc=4,\n",
    "        verse=True,\n",
    "        force=False):\n",
    "    pass\n",
    "x"
   ]
  },
  {
   "cell_type": "code",
   "execution_count": 9,
   "id": "eb9c0003",
   "metadata": {},
   "outputs": [
    {
     "name": "stderr",
     "output_type": "stream",
     "text": [
      "Iterating over line scansions [x1]: 100%|██████████| 380/380 [01:00<00:00,  6.27it/s]\n",
      "Iterating over line scansions [x1]: 100%|██████████| 380/380 [00:21<00:00, 17.36it/s]\n",
      "Iterating over line scansions [x1]: 100%|██████████| 380/380 [00:22<00:00, 16.91it/s]\n",
      "Iterating over line scansions [x1]: 100%|██████████| 380/380 [00:21<00:00, 17.62it/s]\n",
      "Iterating over line scansions [x1]: 100%|██████████| 380/380 [00:21<00:00, 17.59it/s]\n",
      "Iterating over line scansions [x1]: 100%|██████████| 380/380 [00:21<00:00, 17.32it/s]\n",
      "Iterating over line scansions [x1]: 100%|██████████| 380/380 [00:22<00:00, 16.89it/s]\n",
      "Iterating over line scansions [x1]: 100%|██████████| 380/380 [00:21<00:00, 17.62it/s]\n"
     ]
    },
    {
     "name": "stdout",
     "output_type": "stream",
     "text": [
      "22.1 s ± 379 ms per loop (mean ± std. dev. of 7 runs, 1 loop each)\n"
     ]
    }
   ],
   "source": [
    "%%timeit\n",
    "for x in cd.parse_iter(\n",
    "        txt,#[:10000],\n",
    "        num_proc=4,\n",
    "        by_line=True,\n",
    "        prose=True,\n",
    "        only_best=True,\n",
    "        force=False):\n",
    "    pass\n",
    "x"
   ]
  },
  {
   "cell_type": "code",
   "execution_count": null,
   "id": "9867eb8b",
   "metadata": {},
   "outputs": [],
   "source": []
  },
  {
   "cell_type": "code",
   "execution_count": 10,
   "id": "7ff9d8db",
   "metadata": {},
   "outputs": [
    {
     "name": "stdout",
     "output_type": "stream",
     "text": [
      "total 112M\r\n",
      "-rw-rw-r-- 1 ryan ryan  18K Mar 29 17:05 data.feats.ipa.csv\r\n",
      "drwxrwxr-x 2 ryan ryan 4.0K Mar 29 17:05 en\r\n",
      "drwxrwxr-x 2 ryan ryan 4.0K Jul 16 13:38 bak\r\n",
      "-rw-r--r-- 1 ryan ryan  19M Jul 16 19:07 db.lines.sqlite\r\n",
      "-rw-r--r-- 1 ryan ryan  94M Jul 16 19:07 db.parses.sqlite\r\n"
     ]
    }
   ],
   "source": [
    "!ls -ltrh ~/.cadence/data"
   ]
  },
  {
   "cell_type": "code",
   "execution_count": null,
   "id": "ea525ae2",
   "metadata": {},
   "outputs": [],
   "source": [
    "\n",
    "\n",
    "\n"
   ]
  }
 ],
 "metadata": {
  "kernelspec": {
   "display_name": "Python 3",
   "language": "python",
   "name": "python3"
  },
  "language_info": {
   "codemirror_mode": {
    "name": "ipython",
    "version": 3
   },
   "file_extension": ".py",
   "mimetype": "text/x-python",
   "name": "python",
   "nbconvert_exporter": "python",
   "pygments_lexer": "ipython3",
   "version": "3.8.5"
  }
 },
 "nbformat": 4,
 "nbformat_minor": 5
}
