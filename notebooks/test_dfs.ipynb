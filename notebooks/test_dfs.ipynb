{
 "metadata": {
  "language_info": {
   "codemirror_mode": {
    "name": "ipython",
    "version": 3
   },
   "file_extension": ".py",
   "mimetype": "text/x-python",
   "name": "python",
   "nbconvert_exporter": "python",
   "pygments_lexer": "ipython3",
   "version": "3.7.7-final"
  },
  "orig_nbformat": 2,
  "kernelspec": {
   "name": "python37764bit686b23b387564d06bfd55da2c42a5653",
   "display_name": "Python 3.7.7 64-bit",
   "language": "python"
  }
 },
 "nbformat": 4,
 "nbformat_minor": 2,
 "cells": [
  {
   "cell_type": "code",
   "execution_count": 1,
   "metadata": {},
   "outputs": [],
   "source": [
    "import sys; sys.path.append('..')\n",
    "import prosodic2 as p"
   ]
  },
  {
   "cell_type": "code",
   "execution_count": 2,
   "metadata": {},
   "outputs": [],
   "source": [
    "txt=\"\"\"\n",
    "If I were a dead leaf thou mightest bear;\n",
    "If I were a swift cloud to fly with thee;\n",
    "A wave to pant beneath thy power, and share\n",
    "\n",
    "The impulse of thy strength, only less free\n",
    "Than thou, O uncontrollable! If even\n",
    "I were as in my boyhood, and could be\n",
    "\n",
    "The comrade of thy wanderings over Heaven,\n",
    "As then, when to outstrip thy skiey speed\n",
    "Scarce seem'd a vision; I would ne'er have striven\n",
    "\n",
    "As thus with thee in prayer in my sore need.\n",
    "Oh, lift me as a wave, a leaf, a cloud!\n",
    "I fall upon the thorns of life! I bleed!\n",
    "\n",
    "A heavy weight of hours has chain'd and bow'd\n",
    "One too like thee: tameless, and swift, and proud.\n",
    "\"\"\""
   ]
  },
  {
   "cell_type": "code",
   "execution_count": 3,
   "metadata": {},
   "outputs": [
    {
     "output_type": "execute_result",
     "data": {
      "text/plain": [
       "1400"
      ]
     },
     "metadata": {},
     "execution_count": 3
    }
   ],
   "source": [
    "bigtxt = '\\n\\n'.join([txt for n in range(100)])\n",
    "len([x for x in bigtxt.split('\\n') if x.strip()])"
   ]
  },
  {
   "cell_type": "code",
   "execution_count": 4,
   "metadata": {},
   "outputs": [
    {
     "output_type": "stream",
     "name": "stderr",
     "text": [
      "Tokenizing and syllabifying [x4]: 100%|██████████| 14/14 [00:00<00:00, 18.14it/s]\n"
     ]
    },
    {
     "output_type": "execute_result",
     "data": {
      "text/plain": [
       "    stanza_i  line_i  word_i  word_ipa_i  syll_i word_str word_ipa syll_ipa  \\\n",
       "0          0       0       0           0       0       If      'ɪf      'ɪf   \n",
       "1          0       0       0           1       0       If       ɪf       ɪf   \n",
       "2          0       0       1           0       0        I      'aɪ      'aɪ   \n",
       "3          0       0       2           0       0     were      wɛː      wɛː   \n",
       "4          0       0       2           1       0     were     'wɛː     'wɛː   \n",
       "..       ...     ...     ...         ...     ...      ...      ...      ...   \n",
       "9          4       1       7           1       0      and      ənd      ənd   \n",
       "10         4       1       8           0       0    swift   'swɪft   'swɪft   \n",
       "11         4       1      10           0       0      and     'ænd     'ænd   \n",
       "12         4       1      10           1       0      and      ənd      ənd   \n",
       "13         4       1      11           0       0    proud   'praʊd   'praʊd   \n",
       "\n",
       "   syll_str  \n",
       "0        If  \n",
       "1        If  \n",
       "2         I  \n",
       "3      were  \n",
       "4      were  \n",
       "..      ...  \n",
       "9       and  \n",
       "10    swift  \n",
       "11      and  \n",
       "12      and  \n",
       "13    proud  \n",
       "\n",
       "[215 rows x 9 columns]"
      ],
      "text/html": "<div>\n<style scoped>\n    .dataframe tbody tr th:only-of-type {\n        vertical-align: middle;\n    }\n\n    .dataframe tbody tr th {\n        vertical-align: top;\n    }\n\n    .dataframe thead th {\n        text-align: right;\n    }\n</style>\n<table border=\"1\" class=\"dataframe\">\n  <thead>\n    <tr style=\"text-align: right;\">\n      <th></th>\n      <th>stanza_i</th>\n      <th>line_i</th>\n      <th>word_i</th>\n      <th>word_ipa_i</th>\n      <th>syll_i</th>\n      <th>word_str</th>\n      <th>word_ipa</th>\n      <th>syll_ipa</th>\n      <th>syll_str</th>\n    </tr>\n  </thead>\n  <tbody>\n    <tr>\n      <th>0</th>\n      <td>0</td>\n      <td>0</td>\n      <td>0</td>\n      <td>0</td>\n      <td>0</td>\n      <td>If</td>\n      <td>'ɪf</td>\n      <td>'ɪf</td>\n      <td>If</td>\n    </tr>\n    <tr>\n      <th>1</th>\n      <td>0</td>\n      <td>0</td>\n      <td>0</td>\n      <td>1</td>\n      <td>0</td>\n      <td>If</td>\n      <td>ɪf</td>\n      <td>ɪf</td>\n      <td>If</td>\n    </tr>\n    <tr>\n      <th>2</th>\n      <td>0</td>\n      <td>0</td>\n      <td>1</td>\n      <td>0</td>\n      <td>0</td>\n      <td>I</td>\n      <td>'aɪ</td>\n      <td>'aɪ</td>\n      <td>I</td>\n    </tr>\n    <tr>\n      <th>3</th>\n      <td>0</td>\n      <td>0</td>\n      <td>2</td>\n      <td>0</td>\n      <td>0</td>\n      <td>were</td>\n      <td>wɛː</td>\n      <td>wɛː</td>\n      <td>were</td>\n    </tr>\n    <tr>\n      <th>4</th>\n      <td>0</td>\n      <td>0</td>\n      <td>2</td>\n      <td>1</td>\n      <td>0</td>\n      <td>were</td>\n      <td>'wɛː</td>\n      <td>'wɛː</td>\n      <td>were</td>\n    </tr>\n    <tr>\n      <th>...</th>\n      <td>...</td>\n      <td>...</td>\n      <td>...</td>\n      <td>...</td>\n      <td>...</td>\n      <td>...</td>\n      <td>...</td>\n      <td>...</td>\n      <td>...</td>\n    </tr>\n    <tr>\n      <th>9</th>\n      <td>4</td>\n      <td>1</td>\n      <td>7</td>\n      <td>1</td>\n      <td>0</td>\n      <td>and</td>\n      <td>ənd</td>\n      <td>ənd</td>\n      <td>and</td>\n    </tr>\n    <tr>\n      <th>10</th>\n      <td>4</td>\n      <td>1</td>\n      <td>8</td>\n      <td>0</td>\n      <td>0</td>\n      <td>swift</td>\n      <td>'swɪft</td>\n      <td>'swɪft</td>\n      <td>swift</td>\n    </tr>\n    <tr>\n      <th>11</th>\n      <td>4</td>\n      <td>1</td>\n      <td>10</td>\n      <td>0</td>\n      <td>0</td>\n      <td>and</td>\n      <td>'ænd</td>\n      <td>'ænd</td>\n      <td>and</td>\n    </tr>\n    <tr>\n      <th>12</th>\n      <td>4</td>\n      <td>1</td>\n      <td>10</td>\n      <td>1</td>\n      <td>0</td>\n      <td>and</td>\n      <td>ənd</td>\n      <td>ənd</td>\n      <td>and</td>\n    </tr>\n    <tr>\n      <th>13</th>\n      <td>4</td>\n      <td>1</td>\n      <td>11</td>\n      <td>0</td>\n      <td>0</td>\n      <td>proud</td>\n      <td>'praʊd</td>\n      <td>'praʊd</td>\n      <td>proud</td>\n    </tr>\n  </tbody>\n</table>\n<p>215 rows × 9 columns</p>\n</div>"
     },
     "metadata": {},
     "execution_count": 4
    }
   ],
   "source": [
    "df_phon=p.parse_phon(txt,incl_alt=True,num_proc=4)\n",
    "df_phon"
   ]
  },
  {
   "cell_type": "code",
   "execution_count": 20,
   "metadata": {},
   "outputs": [],
   "source": [
    "\n",
    "def product(*args):\n",
    "\tif not args:\n",
    "\t\treturn iter(((),)) # yield tuple()\n",
    "\treturn (items + (item,)\n",
    "\t\tfor items in product(*args[:-1]) for item in args[-1])\n",
    "\n",
    "def line2combos(line_df):\n",
    "    word_rows = [\n",
    "        set(list(zip(word_df.word_i, word_df.word_ipa_i, word_df.word_ipa)))                \n",
    "        # set(list(zip(word_df.word_i, word_df.word_ipa_i, word_df.word_ipa)))                \n",
    "        for word_i,word_df in sorted(line_df.groupby('word_i'))\n",
    "    ]\n",
    "\n",
    "    # divide at blank points\n",
    "    word_rows_div=[]\n",
    "    word_row_div = []\n",
    "    for wordforms in word_rows:\n",
    "        # split into phrases?\n",
    "        if len(wordforms)==1 and not list(wordforms)[0][-1].strip():\n",
    "            if len(word_row_div)>=MIN_WORDS_IN_PHRASE:\n",
    "                word_rows_div.append(word_row_div)\n",
    "                word_row_div=[]\n",
    "        else:\n",
    "            word_row_div.append(wordforms)\n",
    "    if word_row_div: word_rows_div.append(word_row_div)\n",
    "\n",
    "    from pprint import pprint\n",
    "    \n",
    "    # gen combos\n",
    "    all_combos = []\n",
    "    for word_row_div in word_rows_div:\n",
    "        combos = list(product(*word_row_div))\n",
    "        all_combos.extend(combos)\n",
    "    \n",
    "    # loop\n",
    "    combo_dfs=[]\n",
    "    ldf=line_df.set_index(['word_i','word_ipa_i'])\n",
    "    for combo in all_combos:\n",
    "        # print(combo)\n",
    "        combo_df=ldf.loc[[(cx[0],cx[1]) for cx in combo]].reset_index()\n",
    "        # display(combo_df)\n",
    "        combo_dfs.append(combo_df)\n",
    "        # break\n",
    "    return combo_dfs"
   ]
  },
  {
   "cell_type": "code",
   "execution_count": 21,
   "metadata": {},
   "outputs": [],
   "source": [
    "first_line = df_phon.query('stanza_i==0 & line_i==0')\n",
    "# first_line"
   ]
  },
  {
   "cell_type": "code",
   "execution_count": 25,
   "metadata": {},
   "outputs": [
    {
     "output_type": "execute_result",
     "data": {
      "text/plain": [
       "8"
      ]
     },
     "metadata": {},
     "execution_count": 25
    }
   ],
   "source": [
    "combo_dfs=line2combos(first_line)\n",
    "len(combo_dfs)"
   ]
  },
  {
   "cell_type": "code",
   "execution_count": 26,
   "metadata": {},
   "outputs": [],
   "source": [
    "def all_metrical_combos(df_combo):\n",
    "    wordsylls=sorted(list(set(zip(df_combo.word_i,df_combo.syll_i))))\n",
    "\n",
    "    wordsyllsmeter = [\n",
    "        [tuple(list(wsyll)+['w']), tuple(list(wsyll)+['s'])]\n",
    "        for wsyll in wordsylls\n",
    "    ]\n",
    "\n",
    "    wordsyllsmeter_combos = list(product(*wordsyllsmeter))\n",
    "    \n",
    "    # disallow stretches of 3\n",
    "    wordsyllsmeter_combos = [\n",
    "        combo\n",
    "        for combo in wordsyllsmeter_combos\n",
    "        if ''.join([x[-1] for x in combo]).count('www')==0\n",
    "        and ''.join([x[-1] for x in combo]).count('sss')==0\n",
    "    ]\n",
    "    return wordsyllsmeter_combos"
   ]
  },
  {
   "cell_type": "code",
   "execution_count": 28,
   "metadata": {},
   "outputs": [],
   "source": [
    "# all_metrical_combos(combo_dfs[0])"
   ]
  },
  {
   "cell_type": "code",
   "execution_count": null,
   "metadata": {},
   "outputs": [],
   "source": [
    "def parse_phonological_combo(df_combo):\n",
    "    wordsyllsmeter_combos = self.all_metrical_combos(df_combo)\n",
    "    dfwsc = df_combo.set_index(['word_i','syll_i'])\n",
    "    dfall=pd.DataFrame()\n",
    "    # for wi,wsc in enumerate(tqdm(wordsyllsmeter_combos,desc='Parsing line combos',position=1)):\n",
    "    for wi,wsc in enumerate(wordsyllsmeter_combos):#,desc='Parsing line combos',position=1)):\n",
    "        ws2mtr=dict(([((w,s),c) for w,s,c in wsc]))\n",
    "        df_mcombo = pd.DataFrame(dfwsc.loc[ws2mtr.keys()].reset_index().sort_values(['word_i','syll_i']))\n",
    "        df_mcombo['parse']=[ws2mtr.get((w,s)) for w,s in zip(df_mcombo.word_i,df_combo.syll_i)]\n",
    "        \n",
    "        df_mcombo_parsed = self.parse_metrical_combo(df_mcombo)\n",
    "        df_mcombo_parsed['meter_combo_i']=int(wi)\n",
    "        df_mcombo_parsed['meter_combo_str']=''.join(df_mcombo['parse'])\n",
    "        df_mcombo_parsed['meter_combo_str_w']='|'.join(\n",
    "            ''.join(grp.sort_values('syll_i').parse)\n",
    "            for grpname,grp in df_mcombo.groupby('word_i')\n",
    "        )\n",
    "        # df_mcombo_parsed['stress_parse']=self.combo2stress(df_mcombo.word_ipa)\n",
    "        # df_mcombo_parsed['line_combo_ipa']=' '.join(df_mcombo_parsed.word_ipa)\n",
    "        cstrcols=[col for col in df_mcombo_parsed.columns if col.startswith('*')]\n",
    "        df_mcombo_parsed['*total']=df_mcombo_parsed[cstrcols].sum(axis=1)\n",
    "        dfcols=['stanza_i','line_i','word_i','word_ipa_i','syll_i','stress_parse','line_combo_ipa','meter_combo_i','meter_combo_str','meter_combo_str_w','parse']\n",
    "        dfall=dfall.append(df_mcombo_parsed[\n",
    "            dfcols+cstrcols+['*total']\n",
    "        ])\n",
    "    return dfall"
   ]
  }
 ]
}