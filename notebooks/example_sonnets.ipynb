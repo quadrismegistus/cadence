{
 "cells": [
  {
   "cell_type": "code",
   "execution_count": 4,
   "id": "c2b763a4",
   "metadata": {},
   "outputs": [],
   "source": [
    "import sys; sys.path.append('..')     # this line is necessary only for dev purposes\n",
    "import cadence as cd"
   ]
  },
  {
   "cell_type": "code",
   "execution_count": 5,
   "id": "bcd92607",
   "metadata": {},
   "outputs": [
    {
     "ename": "ModuleNotFoundError",
     "evalue": "No module named 'pypoesy'",
     "output_type": "error",
     "traceback": [
      "\u001b[0;31m---------------------------------------------------\u001b[0m",
      "\u001b[0;31mModuleNotFoundError\u001b[0mTraceback (most recent call last)",
      "\u001b[0;32m<ipython-input-5-a1058f5918f1>\u001b[0m in \u001b[0;36m<module>\u001b[0;34m\u001b[0m\n\u001b[0;32m----> 1\u001b[0;31m \u001b[0;32mimport\u001b[0m \u001b[0mpypoesy\u001b[0m\u001b[0;34m\u001b[0m\u001b[0;34m\u001b[0m\u001b[0m\n\u001b[0m",
      "\u001b[0;31mModuleNotFoundError\u001b[0m: No module named 'pypoesy'"
     ]
    }
   ],
   "source": [
    "import pypoesy"
   ]
  },
  {
   "cell_type": "code",
   "execution_count": 2,
   "id": "d73e1975",
   "metadata": {},
   "outputs": [],
   "source": [
    "# Load sonnets\n",
    "sonnets = cd.Poem('/home/ryan/prosodic_data/corpora/corppoetry_en/en.shakespeare.txt')"
   ]
  },
  {
   "cell_type": "code",
   "execution_count": 3,
   "id": "b6c34f87",
   "metadata": {},
   "outputs": [
    {
     "name": "stderr",
     "output_type": "stream",
     "text": [
      "Iterating over line scansions [x4]:  53%|█████▎    | 1132/2155 [00:05<00:04, 240.14it/s]Process ForkPoolWorker-3:\n",
      "Process ForkPoolWorker-2:\n",
      "Iterating over line scansions [x4]:  53%|█████▎    | 1141/2155 [00:05<00:04, 224.57it/s]Process ForkPoolWorker-1:\n",
      "  File \"/home/ryan/miniconda3/lib/python3.8/multiprocessing/process.py\", line 108, in run\n",
      "    self._target(*self._args, **self._kwargs)\n",
      "  File \"/home/ryan/miniconda3/lib/python3.8/multiprocessing/process.py\", line 315, in _bootstrap\n",
      "    self.run()\n",
      "  File \"/home/ryan/miniconda3/lib/python3.8/multiprocessing/pool.py\", line 125, in worker\n",
      "    result = (True, func(*args, **kwds))\n",
      "Traceback (most recent call last):\n",
      "  File \"../cadence/tools/tools.py\", line 157, in pmap_do\n",
      "    return func(obj,*args,**kwargs)\n",
      "Traceback (most recent call last):\n",
      "  File \"/home/ryan/miniconda3/lib/python3.8/multiprocessing/process.py\", line 315, in _bootstrap\n",
      "    self.run()\n",
      "  File \"/home/ryan/miniconda3/lib/python3.8/multiprocessing/process.py\", line 108, in run\n",
      "    self._target(*self._args, **self._kwargs)\n",
      "  File \"/home/ryan/miniconda3/lib/python3.8/multiprocessing/pool.py\", line 125, in worker\n",
      "    result = (True, func(*args, **kwds))\n",
      "  File \"../cadence/tools/tools.py\", line 157, in pmap_do\n",
      "    return func(obj,*args,**kwargs)\n",
      "  File \"/home/ryan/miniconda3/lib/python3.8/multiprocessing/pool.py\", line 125, in worker\n",
      "    result = (True, func(*args, **kwds))\n",
      "  File \"../cadence/parsers/txtparsing.py\", line 89, in do_scan_iter\n",
      "    odf=line2df(linepart_txt, **kwargs)\n",
      "Traceback (most recent call last):\n",
      "  File \"../cadence/langs/langs.py\", line 29, in line2df\n",
      "    odf=odf.sort_values(sby)[\n",
      "  File \"/home/ryan/miniconda3/lib/python3.8/multiprocessing/process.py\", line 315, in _bootstrap\n",
      "    self.run()\n",
      "  File \"/home/ryan/miniconda3/lib/python3.8/site-packages/pandas/core/frame.py\", line 5448, in sort_values\n",
      "    indexer = lexsort_indexer(\n",
      "  File \"/home/ryan/miniconda3/lib/python3.8/multiprocessing/process.py\", line 108, in run\n",
      "    self._target(*self._args, **self._kwargs)\n",
      "  File \"/home/ryan/miniconda3/lib/python3.8/site-packages/pandas/core/sorting.py\", line 299, in lexsort_indexer\n",
      "    cat = Categorical(k, ordered=True)\n",
      "  File \"/home/ryan/miniconda3/lib/python3.8/site-packages/pandas/core/arrays/categorical.py\", line 340, in __init__\n",
      "    codes, categories = factorize(values, sort=True)\n",
      "  File \"../cadence/tools/tools.py\", line 157, in pmap_do\n",
      "    return func(obj,*args,**kwargs)\n",
      "  File \"/home/ryan/miniconda3/lib/python3.8/site-packages/pandas/core/algorithms.py\", line 727, in factorize\n",
      "    uniques, codes = safe_sort(\n",
      "  File \"../cadence/parsers/txtparsing.py\", line 91, in do_scan_iter\n",
      "    assign_proms(odf)\n",
      "  File \"/home/ryan/miniconda3/lib/python3.8/site-packages/pandas/core/algorithms.py\", line 2124, in safe_sort\n",
      "    ordered = values.take(sorter)\n",
      "  File \"../cadence/parsers/txtparsing.py\", line 195, in assign_proms\n",
      "    df['prom_weight']=pd.to_numeric(df['syll_ipa'].apply(getweight),errors='coerce')\n",
      "KeyboardInterrupt\n",
      "  File \"/home/ryan/miniconda3/lib/python3.8/site-packages/pandas/core/series.py\", line 4138, in apply\n",
      "    mapped = lib.map_infer(values, f, convert=convert_dtype)\n",
      "  File \"pandas/_libs/lib.pyx\", line 2467, in pandas._libs.lib.map_infer\n",
      "  File \"../cadence/langs/langs.py\", line 64, in getweight\n",
      "    phondata = dfipa.loc[[ipastr for ipastr in sylipa if ipastr in set(dfipa.index)]]\n",
      "  File \"/home/ryan/miniconda3/lib/python3.8/site-packages/pandas/core/indexing.py\", line 895, in __getitem__\n",
      "    return self._getitem_axis(maybe_callable, axis=axis)\n",
      "  File \"/home/ryan/miniconda3/lib/python3.8/site-packages/pandas/core/indexing.py\", line 1113, in _getitem_axis\n",
      "    return self._getitem_iterable(key, axis=axis)\n",
      "  File \"/home/ryan/miniconda3/lib/python3.8/site-packages/pandas/core/indexing.py\", line 1054, in _getitem_iterable\n",
      "    return self.obj._reindex_with_indexers(\n",
      "  File \"/home/ryan/miniconda3/lib/python3.8/site-packages/pandas/core/generic.py\", line 4877, in _reindex_with_indexers\n",
      "    new_data = new_data.reindex_indexer(\n",
      "  File \"/home/ryan/miniconda3/lib/python3.8/site-packages/pandas/core/internals/managers.py\", line 1311, in reindex_indexer\n",
      "    new_blocks = [\n",
      "  File \"/home/ryan/miniconda3/lib/python3.8/site-packages/pandas/core/internals/managers.py\", line 1312, in <listcomp>\n",
      "    blk.take_nd(\n",
      "  File \"/home/ryan/miniconda3/lib/python3.8/site-packages/pandas/core/internals/blocks.py\", line 1408, in take_nd\n",
      "    return self.make_block_same_class(new_values, new_mgr_locs)\n",
      "  File \"/home/ryan/miniconda3/lib/python3.8/site-packages/pandas/core/internals/blocks.py\", line 294, in make_block_same_class\n",
      "    return type(self)(values, placement=placement, ndim=ndim)\n",
      "  File \"/home/ryan/miniconda3/lib/python3.8/site-packages/pandas/core/internals/blocks.py\", line 137, in __init__\n",
      "    self.ndim = self._check_ndim(values, ndim)\n",
      "  File \"/home/ryan/miniconda3/lib/python3.8/site-packages/pandas/core/internals/blocks.py\", line 185, in _check_ndim\n",
      "    if self._validate_ndim and values.ndim != ndim:\n",
      "KeyboardInterrupt\n",
      "\n",
      "  File \"../cadence/parsers/txtparsing.py\", line 89, in do_scan_iter\n",
      "    odf=line2df(linepart_txt, **kwargs)\n",
      "  File \"../cadence/langs/langs.py\", line 29, in line2df\n",
      "    odf=odf.sort_values(sby)[\n",
      "  File \"/home/ryan/miniconda3/lib/python3.8/site-packages/pandas/core/frame.py\", line 2987, in __getitem__\n",
      "    def __getitem__(self, key):\n",
      "KeyboardInterrupt\n",
      "Process ForkPoolWorker-4:\n",
      "Traceback (most recent call last):\n",
      "  File \"/home/ryan/miniconda3/lib/python3.8/multiprocessing/process.py\", line 315, in _bootstrap\n",
      "    self.run()\n",
      "  File \"/home/ryan/miniconda3/lib/python3.8/multiprocessing/process.py\", line 108, in run\n",
      "    self._target(*self._args, **self._kwargs)\n",
      "  File \"/home/ryan/miniconda3/lib/python3.8/multiprocessing/pool.py\", line 125, in worker\n",
      "    result = (True, func(*args, **kwds))\n",
      "  File \"../cadence/tools/tools.py\", line 157, in pmap_do\n",
      "    return func(obj,*args,**kwargs)\n",
      "  File \"../cadence/parsers/txtparsing.py\", line 89, in do_scan_iter\n",
      "    odf=line2df(linepart_txt, **kwargs)\n",
      "  File \"../cadence/langs/langs.py\", line 27, in line2df\n",
      "    odf=func(line_txt,incl_alt=incl_alt,**y)\n",
      "  File \"../cadence/langs/english.py\", line 57, in scan\n",
      "    return pd.DataFrame(o)\n",
      "  File \"/home/ryan/miniconda3/lib/python3.8/site-packages/pandas/core/frame.py\", line 570, in __init__\n",
      "    arrays, columns = to_arrays(data, columns, dtype=dtype)\n",
      "  File \"/home/ryan/miniconda3/lib/python3.8/site-packages/pandas/core/internals/construction.py\", line 530, in to_arrays\n",
      "    return _list_of_dict_to_arrays(\n",
      "  File \"/home/ryan/miniconda3/lib/python3.8/site-packages/pandas/core/internals/construction.py\", line 651, in _list_of_dict_to_arrays\n",
      "    content = _convert_object_array(content, dtype=dtype, coerce_float=coerce_float)\n",
      "  File \"/home/ryan/miniconda3/lib/python3.8/site-packages/pandas/core/internals/construction.py\", line 736, in _convert_object_array\n",
      "    arrays = [convert(arr) for arr in content]\n",
      "  File \"/home/ryan/miniconda3/lib/python3.8/site-packages/pandas/core/internals/construction.py\", line 736, in <listcomp>\n",
      "    arrays = [convert(arr) for arr in content]\n",
      "  File \"/home/ryan/miniconda3/lib/python3.8/site-packages/pandas/core/internals/construction.py\", line 733, in convert\n",
      "    arr = maybe_cast_to_datetime(arr, dtype)\n",
      "  File \"/home/ryan/miniconda3/lib/python3.8/site-packages/pandas/core/dtypes/cast.py\", line 1512, in maybe_cast_to_datetime\n",
      "    value = maybe_infer_to_datetimelike(value)\n",
      "  File \"/home/ryan/miniconda3/lib/python3.8/site-packages/pandas/core/dtypes/cast.py\", line 1293, in maybe_infer_to_datetimelike\n",
      "    if isinstance(\n",
      "KeyboardInterrupt\n"
     ]
    },
    {
     "ename": "KeyboardInterrupt",
     "evalue": "",
     "output_type": "error",
     "traceback": [
      "\u001b[0;31m---------------------------------------------------\u001b[0m",
      "\u001b[0;31mIndexError\u001b[0m        Traceback (most recent call last)",
      "\u001b[0;32m~/miniconda3/lib/python3.8/multiprocessing/pool.py\u001b[0m in \u001b[0;36mnext\u001b[0;34m(self, timeout)\u001b[0m\n\u001b[1;32m    850\u001b[0m             \u001b[0;32mtry\u001b[0m\u001b[0;34m:\u001b[0m\u001b[0;34m\u001b[0m\u001b[0;34m\u001b[0m\u001b[0m\n\u001b[0;32m--> 851\u001b[0;31m                 \u001b[0mitem\u001b[0m \u001b[0;34m=\u001b[0m \u001b[0mself\u001b[0m\u001b[0;34m.\u001b[0m\u001b[0m_items\u001b[0m\u001b[0;34m.\u001b[0m\u001b[0mpopleft\u001b[0m\u001b[0;34m(\u001b[0m\u001b[0;34m)\u001b[0m\u001b[0;34m\u001b[0m\u001b[0;34m\u001b[0m\u001b[0m\n\u001b[0m\u001b[1;32m    852\u001b[0m             \u001b[0;32mexcept\u001b[0m \u001b[0mIndexError\u001b[0m\u001b[0;34m:\u001b[0m\u001b[0;34m\u001b[0m\u001b[0;34m\u001b[0m\u001b[0m\n",
      "\u001b[0;31mIndexError\u001b[0m: pop from an empty deque",
      "\nDuring handling of the above exception, another exception occurred:\n",
      "\u001b[0;31mKeyboardInterrupt\u001b[0m Traceback (most recent call last)",
      "\u001b[0;32m<ipython-input-3-b2ca2559cfb8>\u001b[0m in \u001b[0;36m<module>\u001b[0;34m\u001b[0m\n\u001b[0;32m----> 1\u001b[0;31m \u001b[0msonnets\u001b[0m\u001b[0;34m.\u001b[0m\u001b[0mscan\u001b[0m\u001b[0;34m(\u001b[0m\u001b[0mnum_proc\u001b[0m\u001b[0;34m=\u001b[0m\u001b[0;36m4\u001b[0m\u001b[0;34m)\u001b[0m\u001b[0;34m\u001b[0m\u001b[0;34m\u001b[0m\u001b[0m\n\u001b[0m",
      "\u001b[0;32m~/github/cadence/cadence/cadence.py\u001b[0m in \u001b[0;36mscan\u001b[0;34m(self, force, **kwargs)\u001b[0m\n\u001b[1;32m     97\u001b[0m         \u001b[0mkey\u001b[0m\u001b[0;34m=\u001b[0m\u001b[0mkwargs_key\u001b[0m\u001b[0;34m(\u001b[0m\u001b[0mkwargs\u001b[0m\u001b[0;34m)\u001b[0m\u001b[0;34m\u001b[0m\u001b[0;34m\u001b[0m\u001b[0m\n\u001b[1;32m     98\u001b[0m         \u001b[0;32mif\u001b[0m \u001b[0mforce\u001b[0m \u001b[0;32mor\u001b[0m \u001b[0;32mnot\u001b[0m \u001b[0mkey\u001b[0m \u001b[0;32min\u001b[0m \u001b[0mself\u001b[0m\u001b[0;34m.\u001b[0m\u001b[0m_scans\u001b[0m\u001b[0;34m:\u001b[0m\u001b[0;34m\u001b[0m\u001b[0;34m\u001b[0m\u001b[0m\n\u001b[0;32m---> 99\u001b[0;31m             \u001b[0mself\u001b[0m\u001b[0;34m.\u001b[0m\u001b[0m_scans\u001b[0m\u001b[0;34m[\u001b[0m\u001b[0mkey\u001b[0m\u001b[0;34m]\u001b[0m\u001b[0;34m=\u001b[0m\u001b[0mscan\u001b[0m\u001b[0;34m(\u001b[0m\u001b[0mself\u001b[0m\u001b[0;34m.\u001b[0m\u001b[0mtxt\u001b[0m\u001b[0;34m,\u001b[0m\u001b[0;34m**\u001b[0m\u001b[0mkwargs\u001b[0m\u001b[0;34m)\u001b[0m\u001b[0;34m\u001b[0m\u001b[0;34m\u001b[0m\u001b[0m\n\u001b[0m\u001b[1;32m    100\u001b[0m         \u001b[0;32mreturn\u001b[0m \u001b[0mself\u001b[0m\u001b[0;34m.\u001b[0m\u001b[0m_scans\u001b[0m\u001b[0;34m[\u001b[0m\u001b[0mkey\u001b[0m\u001b[0;34m]\u001b[0m\u001b[0;34m\u001b[0m\u001b[0;34m\u001b[0m\u001b[0m\n\u001b[1;32m    101\u001b[0m \u001b[0;34m\u001b[0m\u001b[0m\n",
      "\u001b[0;32m~/github/cadence/cadence/parsers/txtparsing.py\u001b[0m in \u001b[0;36mscan\u001b[0;34m(txt_or_fn, **kwargs)\u001b[0m\n\u001b[1;32m     70\u001b[0m \u001b[0;32mdef\u001b[0m \u001b[0mscan\u001b[0m\u001b[0;34m(\u001b[0m\u001b[0mtxt_or_fn\u001b[0m\u001b[0;34m,\u001b[0m\u001b[0;34m**\u001b[0m\u001b[0mkwargs\u001b[0m\u001b[0;34m)\u001b[0m\u001b[0;34m:\u001b[0m\u001b[0;34m\u001b[0m\u001b[0;34m\u001b[0m\u001b[0m\n\u001b[1;32m     71\u001b[0m     return setindex(\n\u001b[0;32m---> 72\u001b[0;31m         pd.concat(\n\u001b[0m\u001b[1;32m     73\u001b[0m             \u001b[0mscan_iter\u001b[0m\u001b[0;34m(\u001b[0m\u001b[0mtxt_or_fn\u001b[0m\u001b[0;34m,\u001b[0m\u001b[0;34m**\u001b[0m\u001b[0mkwargs\u001b[0m\u001b[0;34m)\u001b[0m\u001b[0;34m\u001b[0m\u001b[0;34m\u001b[0m\u001b[0m\n\u001b[1;32m     74\u001b[0m         )\n",
      "\u001b[0;32m~/miniconda3/lib/python3.8/site-packages/pandas/core/reshape/concat.py\u001b[0m in \u001b[0;36mconcat\u001b[0;34m(objs, axis, join, ignore_index, keys, levels, names, verify_integrity, sort, copy)\u001b[0m\n\u001b[1;32m    283\u001b[0m     \u001b[0mValueError\u001b[0m\u001b[0;34m:\u001b[0m \u001b[0mIndexes\u001b[0m \u001b[0mhave\u001b[0m \u001b[0moverlapping\u001b[0m \u001b[0mvalues\u001b[0m\u001b[0;34m:\u001b[0m \u001b[0;34m[\u001b[0m\u001b[0;34m'a'\u001b[0m\u001b[0;34m]\u001b[0m\u001b[0;34m\u001b[0m\u001b[0;34m\u001b[0m\u001b[0m\n\u001b[1;32m    284\u001b[0m     \"\"\"\n\u001b[0;32m--> 285\u001b[0;31m     op = _Concatenator(\n\u001b[0m\u001b[1;32m    286\u001b[0m         \u001b[0mobjs\u001b[0m\u001b[0;34m,\u001b[0m\u001b[0;34m\u001b[0m\u001b[0;34m\u001b[0m\u001b[0m\n\u001b[1;32m    287\u001b[0m         \u001b[0maxis\u001b[0m\u001b[0;34m=\u001b[0m\u001b[0maxis\u001b[0m\u001b[0;34m,\u001b[0m\u001b[0;34m\u001b[0m\u001b[0;34m\u001b[0m\u001b[0m\n",
      "\u001b[0;32m~/miniconda3/lib/python3.8/site-packages/pandas/core/reshape/concat.py\u001b[0m in \u001b[0;36m__init__\u001b[0;34m(self, objs, axis, join, keys, levels, names, ignore_index, verify_integrity, copy, sort)\u001b[0m\n\u001b[1;32m    337\u001b[0m             \u001b[0mobjs\u001b[0m \u001b[0;34m=\u001b[0m \u001b[0;34m[\u001b[0m\u001b[0mobjs\u001b[0m\u001b[0;34m[\u001b[0m\u001b[0mk\u001b[0m\u001b[0;34m]\u001b[0m \u001b[0;32mfor\u001b[0m \u001b[0mk\u001b[0m \u001b[0;32min\u001b[0m \u001b[0mkeys\u001b[0m\u001b[0;34m]\u001b[0m\u001b[0;34m\u001b[0m\u001b[0;34m\u001b[0m\u001b[0m\n\u001b[1;32m    338\u001b[0m         \u001b[0;32melse\u001b[0m\u001b[0;34m:\u001b[0m\u001b[0;34m\u001b[0m\u001b[0;34m\u001b[0m\u001b[0m\n\u001b[0;32m--> 339\u001b[0;31m             \u001b[0mobjs\u001b[0m \u001b[0;34m=\u001b[0m \u001b[0mlist\u001b[0m\u001b[0;34m(\u001b[0m\u001b[0mobjs\u001b[0m\u001b[0;34m)\u001b[0m\u001b[0;34m\u001b[0m\u001b[0;34m\u001b[0m\u001b[0m\n\u001b[0m\u001b[1;32m    340\u001b[0m \u001b[0;34m\u001b[0m\u001b[0m\n\u001b[1;32m    341\u001b[0m         \u001b[0;32mif\u001b[0m \u001b[0mlen\u001b[0m\u001b[0;34m(\u001b[0m\u001b[0mobjs\u001b[0m\u001b[0;34m)\u001b[0m \u001b[0;34m==\u001b[0m \u001b[0;36m0\u001b[0m\u001b[0;34m:\u001b[0m\u001b[0;34m\u001b[0m\u001b[0;34m\u001b[0m\u001b[0m\n",
      "\u001b[0;32m~/github/cadence/cadence/parsers/txtparsing.py\u001b[0m in \u001b[0;36mscan_iter\u001b[0;34m(txt_or_fn, lang, progress, incl_alt, num_proc, linebreaks, phrasebreaks, verse, prose, desc, **kwargs)\u001b[0m\n\u001b[1;32m    169\u001b[0m     \u001b[0mlpi\u001b[0m\u001b[0;34m=\u001b[0m\u001b[0;32mNone\u001b[0m\u001b[0;34m\u001b[0m\u001b[0;34m\u001b[0m\u001b[0m\n\u001b[1;32m    170\u001b[0m     \u001b[0mol\u001b[0m\u001b[0;34m=\u001b[0m\u001b[0;34m[\u001b[0m\u001b[0;34m]\u001b[0m\u001b[0;34m\u001b[0m\u001b[0;34m\u001b[0m\u001b[0m\n\u001b[0;32m--> 171\u001b[0;31m     \u001b[0;32mfor\u001b[0m \u001b[0mdfi\u001b[0m\u001b[0;34m,\u001b[0m\u001b[0mdf\u001b[0m \u001b[0;32min\u001b[0m \u001b[0menumerate\u001b[0m\u001b[0;34m(\u001b[0m\u001b[0miterr\u001b[0m\u001b[0;34m)\u001b[0m\u001b[0;34m:\u001b[0m\u001b[0;34m\u001b[0m\u001b[0;34m\u001b[0m\u001b[0m\n\u001b[0m\u001b[1;32m    172\u001b[0m         \u001b[0;34m(\u001b[0m\u001b[0mstanza_i\u001b[0m\u001b[0;34m,\u001b[0m\u001b[0mstanza_txt\u001b[0m\u001b[0;34m,\u001b[0m\u001b[0mline_i\u001b[0m\u001b[0;34m,\u001b[0m\u001b[0mline_txt\u001b[0m\u001b[0;34m,\u001b[0m\u001b[0mlinepart_i\u001b[0m\u001b[0;34m,\u001b[0m\u001b[0mlinepart_txt\u001b[0m\u001b[0;34m,\u001b[0m\u001b[0mkey\u001b[0m\u001b[0;34m)\u001b[0m \u001b[0;34m=\u001b[0m \u001b[0mobjs\u001b[0m\u001b[0;34m[\u001b[0m\u001b[0mdfi\u001b[0m\u001b[0;34m]\u001b[0m\u001b[0;34m\u001b[0m\u001b[0;34m\u001b[0m\u001b[0m\n\u001b[1;32m    173\u001b[0m         \u001b[0mlpinow\u001b[0m\u001b[0;34m=\u001b[0m\u001b[0;34m(\u001b[0m\u001b[0mstanza_i\u001b[0m\u001b[0;34m,\u001b[0m\u001b[0mline_i\u001b[0m\u001b[0;34m)\u001b[0m\u001b[0;34m\u001b[0m\u001b[0;34m\u001b[0m\u001b[0m\n",
      "\u001b[0;32m~/github/cadence/cadence/tools/tools.py\u001b[0m in \u001b[0;36mpmap_iter\u001b[0;34m(func, objs, args, kwargs, num_proc, use_threads, progress, desc, position, leave, **y)\u001b[0m\n\u001b[1;32m    194\u001b[0m             \u001b[0mposition\u001b[0m\u001b[0;34m=\u001b[0m\u001b[0mposition\u001b[0m\u001b[0;34m\u001b[0m\u001b[0;34m\u001b[0m\u001b[0m\n\u001b[1;32m    195\u001b[0m         )\n\u001b[0;32m--> 196\u001b[0;31m         \u001b[0;32myield\u001b[0m \u001b[0;32mfrom\u001b[0m \u001b[0miterr\u001b[0m\u001b[0;34m\u001b[0m\u001b[0;34m\u001b[0m\u001b[0m\n\u001b[0m\u001b[1;32m    197\u001b[0m \u001b[0;34m\u001b[0m\u001b[0m\n\u001b[1;32m    198\u001b[0m         \u001b[0;31m# Close the pool?\u001b[0m\u001b[0;34m\u001b[0m\u001b[0;34m\u001b[0m\u001b[0;34m\u001b[0m\u001b[0m\n",
      "\u001b[0;32m~/miniconda3/lib/python3.8/site-packages/tqdm/std.py\u001b[0m in \u001b[0;36m__iter__\u001b[0;34m(self)\u001b[0m\n\u001b[1;32m   1176\u001b[0m \u001b[0;34m\u001b[0m\u001b[0m\n\u001b[1;32m   1177\u001b[0m         \u001b[0;32mtry\u001b[0m\u001b[0;34m:\u001b[0m\u001b[0;34m\u001b[0m\u001b[0;34m\u001b[0m\u001b[0m\n\u001b[0;32m-> 1178\u001b[0;31m             \u001b[0;32mfor\u001b[0m \u001b[0mobj\u001b[0m \u001b[0;32min\u001b[0m \u001b[0miterable\u001b[0m\u001b[0;34m:\u001b[0m\u001b[0;34m\u001b[0m\u001b[0;34m\u001b[0m\u001b[0m\n\u001b[0m\u001b[1;32m   1179\u001b[0m                 \u001b[0;32myield\u001b[0m \u001b[0mobj\u001b[0m\u001b[0;34m\u001b[0m\u001b[0;34m\u001b[0m\u001b[0m\n\u001b[1;32m   1180\u001b[0m                 \u001b[0;31m# Update and possibly print the progressbar.\u001b[0m\u001b[0;34m\u001b[0m\u001b[0;34m\u001b[0m\u001b[0;34m\u001b[0m\u001b[0m\n",
      "\u001b[0;32m~/miniconda3/lib/python3.8/multiprocessing/pool.py\u001b[0m in \u001b[0;36mnext\u001b[0;34m(self, timeout)\u001b[0m\n\u001b[1;32m    854\u001b[0m                     \u001b[0mself\u001b[0m\u001b[0;34m.\u001b[0m\u001b[0m_pool\u001b[0m \u001b[0;34m=\u001b[0m \u001b[0;32mNone\u001b[0m\u001b[0;34m\u001b[0m\u001b[0;34m\u001b[0m\u001b[0m\n\u001b[1;32m    855\u001b[0m                     \u001b[0;32mraise\u001b[0m \u001b[0mStopIteration\u001b[0m \u001b[0;32mfrom\u001b[0m \u001b[0;32mNone\u001b[0m\u001b[0;34m\u001b[0m\u001b[0;34m\u001b[0m\u001b[0m\n\u001b[0;32m--> 856\u001b[0;31m                 \u001b[0mself\u001b[0m\u001b[0;34m.\u001b[0m\u001b[0m_cond\u001b[0m\u001b[0;34m.\u001b[0m\u001b[0mwait\u001b[0m\u001b[0;34m(\u001b[0m\u001b[0mtimeout\u001b[0m\u001b[0;34m)\u001b[0m\u001b[0;34m\u001b[0m\u001b[0;34m\u001b[0m\u001b[0m\n\u001b[0m\u001b[1;32m    857\u001b[0m                 \u001b[0;32mtry\u001b[0m\u001b[0;34m:\u001b[0m\u001b[0;34m\u001b[0m\u001b[0;34m\u001b[0m\u001b[0m\n\u001b[1;32m    858\u001b[0m                     \u001b[0mitem\u001b[0m \u001b[0;34m=\u001b[0m \u001b[0mself\u001b[0m\u001b[0;34m.\u001b[0m\u001b[0m_items\u001b[0m\u001b[0;34m.\u001b[0m\u001b[0mpopleft\u001b[0m\u001b[0;34m(\u001b[0m\u001b[0;34m)\u001b[0m\u001b[0;34m\u001b[0m\u001b[0;34m\u001b[0m\u001b[0m\n",
      "\u001b[0;32m~/miniconda3/lib/python3.8/threading.py\u001b[0m in \u001b[0;36mwait\u001b[0;34m(self, timeout)\u001b[0m\n\u001b[1;32m    300\u001b[0m         \u001b[0;32mtry\u001b[0m\u001b[0;34m:\u001b[0m    \u001b[0;31m# restore state no matter what (e.g., KeyboardInterrupt)\u001b[0m\u001b[0;34m\u001b[0m\u001b[0;34m\u001b[0m\u001b[0m\n\u001b[1;32m    301\u001b[0m             \u001b[0;32mif\u001b[0m \u001b[0mtimeout\u001b[0m \u001b[0;32mis\u001b[0m \u001b[0;32mNone\u001b[0m\u001b[0;34m:\u001b[0m\u001b[0;34m\u001b[0m\u001b[0;34m\u001b[0m\u001b[0m\n\u001b[0;32m--> 302\u001b[0;31m                 \u001b[0mwaiter\u001b[0m\u001b[0;34m.\u001b[0m\u001b[0macquire\u001b[0m\u001b[0;34m(\u001b[0m\u001b[0;34m)\u001b[0m\u001b[0;34m\u001b[0m\u001b[0;34m\u001b[0m\u001b[0m\n\u001b[0m\u001b[1;32m    303\u001b[0m                 \u001b[0mgotit\u001b[0m \u001b[0;34m=\u001b[0m \u001b[0;32mTrue\u001b[0m\u001b[0;34m\u001b[0m\u001b[0;34m\u001b[0m\u001b[0m\n\u001b[1;32m    304\u001b[0m             \u001b[0;32melse\u001b[0m\u001b[0;34m:\u001b[0m\u001b[0;34m\u001b[0m\u001b[0;34m\u001b[0m\u001b[0m\n",
      "\u001b[0;31mKeyboardInterrupt\u001b[0m: "
     ]
    }
   ],
   "source": [
    "sonnets.scan(num_proc=4)"
   ]
  },
  {
   "cell_type": "code",
   "execution_count": null,
   "id": "e1e6ee81",
   "metadata": {},
   "outputs": [],
   "source": [
    "sonnets.parse(num_proc=1,verbose=False)"
   ]
  },
  {
   "cell_type": "code",
   "execution_count": null,
   "id": "e06947df",
   "metadata": {},
   "outputs": [],
   "source": []
  }
 ],
 "metadata": {
  "kernelspec": {
   "display_name": "Python 3",
   "language": "python",
   "name": "python3"
  },
  "language_info": {
   "codemirror_mode": {
    "name": "ipython",
    "version": 3
   },
   "file_extension": ".py",
   "mimetype": "text/x-python",
   "name": "python",
   "nbconvert_exporter": "python",
   "pygments_lexer": "ipython3",
   "version": "3.8.5"
  }
 },
 "nbformat": 4,
 "nbformat_minor": 5
}
