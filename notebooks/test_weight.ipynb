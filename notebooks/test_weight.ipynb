{
 "cells": [
  {
   "cell_type": "code",
   "execution_count": 1,
   "metadata": {},
   "outputs": [],
   "source": [
    "import sys; sys.path.insert(0,'/Users/ryan/github/prosodic/')\n",
    "import sys; sys.path.insert(0,'/Users/ryan/github/cadence/')\n",
    "from cadence.imports import *"
   ]
  },
  {
   "cell_type": "code",
   "execution_count": 11,
   "metadata": {},
   "outputs": [],
   "source": [
    "D_IPA=None\n",
    "def get_d_ipa(fn=PATH_IPA_FEATS):\n",
    "    global D_IPA\n",
    "    if D_IPA is None: D_IPA=pd.read_csv(fn).set_index('ipa').T.to_dict()\n",
    "    return D_IPA\n",
    "\n",
    "ipad=get_d_ipa()"
   ]
  },
  {
   "cell_type": "code",
   "execution_count": 24,
   "metadata": {},
   "outputs": [],
   "source": [
    "syl1=\"'wɪm\"\n",
    "syl2=\"'prɑ\"\n",
    "syl3=\"'bɔɪ\"\n",
    "ipal=[syl1,syl2,syl3]"
   ]
  },
  {
   "cell_type": "code",
   "execution_count": 37,
   "metadata": {},
   "outputs": [],
   "source": [
    "def get_vowels(sylipa):\n",
    "    return [\n",
    "        ipa\n",
    "        for ipa in sylipa\n",
    "        if get_d_ipa().get(ipa,{}).get('syll') == True\n",
    "    ]\n",
    "\n",
    "def syll_is_dipthong(sylipa):\n",
    "    return len(get_vowels(sylipa))>1\n",
    "\n",
    "def syll_ends_with_consonant(sylipa):\n",
    "    return get_d_ipa().get(sylipa[-1],{}).get('syll')==False\n",
    "\n",
    "def syll_is_heavy(sylipa):\n",
    "    return syll_ends_with_consonant(sylipa) or syll_is_dipthong(sylipa)\n",
    "\n",
    "def ipa_to_weight(sylipa,numeric=True):\n",
    "    is_heavy = syll_is_heavy(sylipa)\n",
    "    if is_heavy:\n",
    "        return 1.0 if numeric else 'H'\n",
    "    else:\n",
    "        return 0.0 if numeric else 'L'"
   ]
  },
  {
   "cell_type": "code",
   "execution_count": 39,
   "metadata": {},
   "outputs": [
    {
     "data": {
      "text/html": [
       "<div>\n",
       "<style scoped>\n",
       "    .dataframe tbody tr th:only-of-type {\n",
       "        vertical-align: middle;\n",
       "    }\n",
       "\n",
       "    .dataframe tbody tr th {\n",
       "        vertical-align: top;\n",
       "    }\n",
       "\n",
       "    .dataframe thead th {\n",
       "        text-align: right;\n",
       "    }\n",
       "</style>\n",
       "<table border=\"1\" class=\"dataframe\">\n",
       "  <thead>\n",
       "    <tr style=\"text-align: right;\">\n",
       "      <th></th>\n",
       "      <th>get_vowels</th>\n",
       "      <th>syll_is_dipthong</th>\n",
       "      <th>syll_ends_with_consonant</th>\n",
       "      <th>syll_is_heavy</th>\n",
       "      <th>ipa_to_weight</th>\n",
       "    </tr>\n",
       "  </thead>\n",
       "  <tbody>\n",
       "    <tr>\n",
       "      <th>'wɪm</th>\n",
       "      <td>[ɪ]</td>\n",
       "      <td>False</td>\n",
       "      <td>True</td>\n",
       "      <td>True</td>\n",
       "      <td>1.0</td>\n",
       "    </tr>\n",
       "    <tr>\n",
       "      <th>'prɑ</th>\n",
       "      <td>[ɑ]</td>\n",
       "      <td>False</td>\n",
       "      <td>False</td>\n",
       "      <td>False</td>\n",
       "      <td>0.0</td>\n",
       "    </tr>\n",
       "    <tr>\n",
       "      <th>'bɔɪ</th>\n",
       "      <td>[ɔ, ɪ]</td>\n",
       "      <td>True</td>\n",
       "      <td>False</td>\n",
       "      <td>True</td>\n",
       "      <td>1.0</td>\n",
       "    </tr>\n",
       "  </tbody>\n",
       "</table>\n",
       "</div>"
      ],
      "text/plain": [
       "     get_vowels  syll_is_dipthong  ...  syll_is_heavy  ipa_to_weight\n",
       "'wɪm        [ɪ]             False  ...           True            1.0\n",
       "'prɑ        [ɑ]             False  ...          False            0.0\n",
       "'bɔɪ     [ɔ, ɪ]              True  ...           True            1.0\n",
       "\n",
       "[3 rows x 5 columns]"
      ]
     },
     "execution_count": 39,
     "metadata": {},
     "output_type": "execute_result"
    }
   ],
   "source": [
    "funcs=[get_vowels,syll_is_dipthong,syll_ends_with_consonant,syll_is_heavy,ipa_to_weight]\n",
    "\n",
    "pd.DataFrame([\n",
    "    dict(\n",
    "        (func.__name__,func(sylipa))\n",
    "        for func in funcs\n",
    "    ) for sylipa in ipal\n",
    "], index=ipal)"
   ]
  },
  {
   "cell_type": "code",
   "execution_count": null,
   "metadata": {},
   "outputs": [],
   "source": []
  }
 ],
 "metadata": {
  "interpreter": {
   "hash": "8d9a62951c4de3cec93df06e5a8769682e2513316501195b5ad08e283a24e7b2"
  },
  "kernelspec": {
   "display_name": "Python 3.8.11 64-bit ('base': conda)",
   "language": "python",
   "name": "python3"
  },
  "language_info": {
   "codemirror_mode": {
    "name": "ipython",
    "version": 3
   },
   "file_extension": ".py",
   "mimetype": "text/x-python",
   "name": "python",
   "nbconvert_exporter": "python",
   "pygments_lexer": "ipython3",
   "version": "3.8.11"
  },
  "orig_nbformat": 4
 },
 "nbformat": 4,
 "nbformat_minor": 2
}
