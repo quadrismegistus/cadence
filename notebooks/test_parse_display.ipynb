{
 "cells": [
  {
   "cell_type": "code",
   "execution_count": 17,
   "metadata": {},
   "outputs": [],
   "source": [
    "import sys; sys.path.insert(0,'..')\n",
    "from cadence.imports import *\n",
    "!rm -rf {PATH_DB}\n",
    "txt=\"How heavy, do I journey on the way,\"\n",
    "text = Verse(txt,linebreaks=True)\n",
    "# print(text.txt)"
   ]
  },
  {
   "cell_type": "code",
   "execution_count": 18,
   "metadata": {},
   "outputs": [],
   "source": [
    "# para=text.para(1)\n",
    "# dfwords=para.words()\n",
    "# # for dfparse in text.parse_iter(by_line=False, only_best=True): break\n",
    "# dfparse=text.parse(by_line=False)"
   ]
  },
  {
   "cell_type": "code",
   "execution_count": 19,
   "metadata": {},
   "outputs": [],
   "source": [
    "# text.words()\n",
    "# text.sylls()\n",
    "# text.sent(1).mtree()\n",
    "for dfunit in text.para(1).iter_units(): pass\n",
    "for dfcombo in iter_combos(dfunit): break\n",
    "# dfcombo\n",
    "# parse_combo(dfcombo)"
   ]
  },
  {
   "cell_type": "code",
   "execution_count": 27,
   "metadata": {},
   "outputs": [
    {
     "data": {
      "text/plain": [
       "unit_i                                                   1\n",
       "parse_rank                                               1\n",
       "parse                                           wSwSwSwSwS\n",
       "parse_str         how HEA.vy , DO i JOUR.ney *ON the WAY ,\n",
       "sent_i                                                   1\n",
       "sentpart_i                                               1\n",
       "line_i                                                   1\n",
       "combo_i                                                  2\n",
       "slot_i                                                   1\n",
       "slot_meter                                               w\n",
       "syll_str_parse                                         how\n",
       "word_i                                                   1\n",
       "word_str                                               How\n",
       "word_tok                                               how\n",
       "word_ipa_i                                               1\n",
       "word_ipa                                               haʊ\n",
       "syll_i                                                   1\n",
       "syll_str                                               how\n",
       "syll_ipa                                               haʊ\n",
       "syll_stress                                              U\n",
       "syll_weight                                              H\n",
       "*total                                                 0.0\n",
       "*unres_across                                          0.0\n",
       "*w_peak                                                0.0\n",
       "num_parses                                               1\n",
       "*w_stressed                                            0.0\n",
       "*s_unstressed                                          0.0\n",
       "*unres_within                                          0.0\n",
       "Name: 0, dtype: object"
      ]
     },
     "execution_count": 27,
     "metadata": {},
     "output_type": "execute_result"
    }
   ],
   "source": [
    "for dfparse in text.parse_iter(by_line=False,index=False): break\n",
    "dfparse.iloc[0]"
   ]
  },
  {
   "cell_type": "code",
   "execution_count": 65,
   "metadata": {},
   "outputs": [],
   "source": [
    "accentd={\n",
    "    'a':'á',\n",
    "    'e':'é',\n",
    "    'i':'í',\n",
    "    'o':'ó',\n",
    "    'u':'ú',\n",
    "    'y':'ý',\n",
    "}\n",
    "for k,v in list(accentd.items()): accentd[k.upper()]=v.upper()\n",
    "\n",
    "def show_parses(parses_bysyll):\n",
    "    try:\n",
    "        from IPython.display import HTML\n",
    "        return HTML(show_parses_md(parses_bysyll))\n",
    "    except ImportError:\n",
    "        return show_parses_txt(parses_bysyll)\n",
    "        \n",
    "def show_parses_md(parses_bysyll):\n",
    "    \n",
    "    grps=sorted(parses_bysyll.reset_index().groupby(\n",
    "        ['stanza_i','line_i']#,'linepart_i','parse_rank']    \n",
    "    ))\n",
    "    mdl=[show_parse_md(dfparse) for i,dfparse in grps]\n",
    "    omd='\\n<br/>'.join(mdl)\n",
    "    return omd\n",
    "\n",
    "def show_parse_md(dfparse,accent_stresses=False):\n",
    "    dfp=resetindex(dfparse)\n",
    "    dfp=dfp[dfp.parse_rank==1]\n",
    "    mdline=[]\n",
    "    for l,dflp in sorted(dfp.groupby('unit_i')):\n",
    "        mdrow=[]\n",
    "        for w,dfword in sorted(dflp.groupby('word_i')):\n",
    "            mdword=[]\n",
    "            for s,dfsyll in sorted(dfword.groupby('syll_i')):\n",
    "                row=dfsyll.iloc[0]\n",
    "                #wpref,w,wsuf = split_punct(row.syll_str)\n",
    "                md=w=row.syll_str\n",
    "                \n",
    "                if row.syll_stress in {\"P\",\"S\"}:\n",
    "                    if accent_stresses:\n",
    "                        w2=[]\n",
    "                        accented=False\n",
    "                        numvowels=len([y for y in w if y in accentd])\n",
    "                        for x in w:\n",
    "                            if not accented and x in accentd:\n",
    "                                if numvowels<2 or x!='y':\n",
    "                                    x=accentd[x]\n",
    "                                    accented=True\n",
    "                            w2+=[x]\n",
    "                        md=w=''.join(w2)\n",
    "                    else:\n",
    "                        md=f'<b>{md}</b>'\n",
    "                    \n",
    "                if row.slot_meter=='s': md=f'<u>{md}</u>'\n",
    "                if row['*total']>0:\n",
    "                    md=f'<font style=\"color:darkred\">{md}</font>'\n",
    "                #md=f'{wpref}{md}{wsuf}'\n",
    "                is_punc=not any(x.isalpha() for x in row.syll_str)\n",
    "                mdword+=[md]\n",
    "            mdrow.append('.'.join(mdword))\n",
    "            if not is_punc: mdrow[-1]=' '+mdrow[-1]\n",
    "        mdline.append(''.join(mdrow))\n",
    "    \n",
    "    # spltr='\\n * '\n",
    "    # o=spltr + spltr.join(mdline)#.replace('</u> <u>',' ')\n",
    "    o=' | '.join(mdline)#.replace('</u> <u>',' ')\n",
    "    return o"
   ]
  },
  {
   "cell_type": "code",
   "execution_count": 66,
   "metadata": {},
   "outputs": [
    {
     "data": {
      "text/markdown": [
       " how <u><b>hea</b></u>.vy, <u><b>do</b></u> i <u><b>jour</b></u>.ney <font style=\"color:darkred\"><u>on</u></font> the <u><b>way</b></u>,"
      ],
      "text/plain": [
       "<IPython.core.display.Markdown object>"
      ]
     },
     "metadata": {},
     "output_type": "display_data"
    }
   ],
   "source": [
    "printm(show_parse_md(dfparse))"
   ]
  },
  {
   "cell_type": "code",
   "execution_count": 12,
   "metadata": {},
   "outputs": [],
   "source": [
    "def show_parse(dfparse):\n",
    "    \n",
    "    "
   ]
  },
  {
   "cell_type": "code",
   "execution_count": null,
   "metadata": {},
   "outputs": [],
   "source": []
  }
 ],
 "metadata": {
  "interpreter": {
   "hash": "8d9a62951c4de3cec93df06e5a8769682e2513316501195b5ad08e283a24e7b2"
  },
  "kernelspec": {
   "display_name": "Python 3.8.11 64-bit ('base': conda)",
   "language": "python",
   "name": "python3"
  },
  "language_info": {
   "codemirror_mode": {
    "name": "ipython",
    "version": 3
   },
   "file_extension": ".py",
   "mimetype": "text/x-python",
   "name": "python",
   "nbconvert_exporter": "python",
   "pygments_lexer": "ipython3",
   "version": "3.8.11"
  },
  "orig_nbformat": 4
 },
 "nbformat": 4,
 "nbformat_minor": 2
}
