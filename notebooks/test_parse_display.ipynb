{
 "cells": [
  {
   "cell_type": "code",
   "execution_count": 17,
   "metadata": {},
   "outputs": [],
   "source": [
    "import sys; sys.path.insert(0,'..')\n",
    "from cadence.imports import *\n",
    "!rm -rf {PATH_DB}\n",
    "txt=\"How heavy, do I journey on the way,\"\n",
    "text = Verse(txt,linebreaks=True)\n",
    "# print(text.txt)"
   ]
  },
  {
   "cell_type": "code",
   "execution_count": 18,
   "metadata": {},
   "outputs": [],
   "source": [
    "# para=text.para(1)\n",
    "# dfwords=para.words()\n",
    "# # for dfparse in text.parse_iter(by_line=False, only_best=True): break\n",
    "# dfparse=text.parse(by_line=False)"
   ]
  },
  {
   "cell_type": "code",
   "execution_count": 19,
   "metadata": {},
   "outputs": [],
   "source": [
    "# text.words()\n",
    "# text.sylls()\n",
    "# text.sent(1).mtree()\n",
    "for dfunit in text.para(1).iter_units(): pass\n",
    "for dfcombo in iter_combos(dfunit): break\n",
    "# dfcombo\n",
    "# parse_combo(dfcombo)"
   ]
  },
  {
   "cell_type": "code",
   "execution_count": 22,
   "metadata": {},
   "outputs": [],
   "source": [
    "for x in text.parse_iter(by_line=False): pass"
   ]
  },
  {
   "cell_type": "code",
   "execution_count": 40,
   "metadata": {},
   "outputs": [
    {
     "ename": "AttributeError",
     "evalue": "'TextModel' object has no attribute 'iter_units'",
     "output_type": "error",
     "traceback": [
      "\u001b[0;31m---------------------------------------------------------------------------\u001b[0m",
      "\u001b[0;31mAttributeError\u001b[0m                            Traceback (most recent call last)",
      "\u001b[0;32m/var/folders/py/jyzw5nyj1fnf0c_1czgsg2fc0000gn/T/ipykernel_18380/4287876241.py\u001b[0m in \u001b[0;36m<module>\u001b[0;34m\u001b[0m\n\u001b[0;32m----> 1\u001b[0;31m \u001b[0;32mfor\u001b[0m \u001b[0mx\u001b[0m \u001b[0;32min\u001b[0m \u001b[0mtext\u001b[0m\u001b[0;34m.\u001b[0m\u001b[0miter_units\u001b[0m\u001b[0;34m(\u001b[0m\u001b[0;34m)\u001b[0m\u001b[0;34m:\u001b[0m \u001b[0mdisplay\u001b[0m\u001b[0;34m(\u001b[0m\u001b[0mx\u001b[0m\u001b[0;34m)\u001b[0m\u001b[0;34m\u001b[0m\u001b[0;34m\u001b[0m\u001b[0m\n\u001b[0m",
      "\u001b[0;31mAttributeError\u001b[0m: 'TextModel' object has no attribute 'iter_units'"
     ]
    }
   ],
   "source": [
    "for x in text.iter_units(): display(x)"
   ]
  },
  {
   "cell_type": "code",
   "execution_count": 10,
   "metadata": {},
   "outputs": [
    {
     "ename": "NameError",
     "evalue": "name 'para' is not defined",
     "output_type": "error",
     "traceback": [
      "\u001b[0;31m---------------------------------------------------------------------------\u001b[0m",
      "\u001b[0;31mNameError\u001b[0m                                 Traceback (most recent call last)",
      "\u001b[0;32m/var/folders/py/jyzw5nyj1fnf0c_1czgsg2fc0000gn/T/ipykernel_18380/1639646384.py\u001b[0m in \u001b[0;36m<module>\u001b[0;34m\u001b[0m\n\u001b[0;32m----> 1\u001b[0;31m \u001b[0mdfsylls\u001b[0m\u001b[0;34m=\u001b[0m\u001b[0mpara\u001b[0m\u001b[0;34m.\u001b[0m\u001b[0msylls\u001b[0m\u001b[0;34m(\u001b[0m\u001b[0mindex\u001b[0m\u001b[0;34m=\u001b[0m\u001b[0;32mFalse\u001b[0m\u001b[0;34m)\u001b[0m\u001b[0;34m\u001b[0m\u001b[0;34m\u001b[0m\u001b[0m\n\u001b[0m\u001b[1;32m      2\u001b[0m \u001b[0mdivide_parse_units\u001b[0m\u001b[0;34m(\u001b[0m\u001b[0mdfsylls\u001b[0m\u001b[0;34m)\u001b[0m\u001b[0;34m\u001b[0m\u001b[0;34m\u001b[0m\u001b[0m\n\u001b[1;32m      3\u001b[0m \u001b[0msafe_merge\u001b[0m\u001b[0;34m(\u001b[0m\u001b[0mdfwords\u001b[0m\u001b[0;34m,\u001b[0m\u001b[0mdfsylls\u001b[0m\u001b[0;34m)\u001b[0m\u001b[0;34m.\u001b[0m\u001b[0mhead\u001b[0m\u001b[0;34m(\u001b[0m\u001b[0;36m20\u001b[0m\u001b[0;34m)\u001b[0m\u001b[0;34m\u001b[0m\u001b[0;34m\u001b[0m\u001b[0m\n",
      "\u001b[0;31mNameError\u001b[0m: name 'para' is not defined"
     ]
    }
   ],
   "source": [
    "dfsylls=para.sylls(index=False)\n",
    "divide_parse_units(dfsylls)\n",
    "safe_merge(dfwords,dfsylls).head(20)"
   ]
  },
  {
   "cell_type": "code",
   "execution_count": null,
   "metadata": {},
   "outputs": [],
   "source": [
    "accentd={\n",
    "    'a':'á',\n",
    "    'e':'é',\n",
    "    'i':'í',\n",
    "    'o':'ó',\n",
    "    'u':'ú',\n",
    "    'y':'ý',\n",
    "}\n",
    "for k,v in list(accentd.items()): accentd[k.upper()]=v.upper()\n",
    "\n",
    "def show_parses(parses_bysyll):\n",
    "    try:\n",
    "        from IPython.display import HTML\n",
    "        return HTML(show_parses_md(parses_bysyll))\n",
    "    except ImportError:\n",
    "        return show_parses_txt(parses_bysyll)\n",
    "        \n",
    "def show_parses_md(parses_bysyll):\n",
    "    \n",
    "    grps=sorted(parses_bysyll.reset_index().groupby(\n",
    "        ['stanza_i','line_i']#,'linepart_i','parse_rank']    \n",
    "    ))\n",
    "    mdl=[show_parse_md(dfparse) for i,dfparse in grps]\n",
    "    omd='\\n<br/>'.join(mdl)\n",
    "    return omd\n",
    "\n",
    "def show_parse_md(dfparse,dfwords):\n",
    "    \n",
    "    mdline=[]\n",
    "    for l,dflp in sorted(dfp.groupby('unit_i')):\n",
    "        mdrow=[]\n",
    "        #display(dflp)\n",
    "        \n",
    "        for w,dfword in sorted(dflp.groupby('word_i')):\n",
    "            mdword=[]\n",
    "            for s,dfsyll in sorted(dfword.groupby('syll_i')):\n",
    "                row=dfsyll.iloc[0]\n",
    "                wpref,w,wsuf = split_punct(row.syll_str)\n",
    "                \n",
    "                if row.is_stressed:\n",
    "                    w2=[]\n",
    "                    accented=False\n",
    "                    numvowels=len([y for y in w if y in accentd])\n",
    "                    for x in w:\n",
    "                        if not accented and x in accentd:\n",
    "                            if numvowels<2 or x!='y':\n",
    "                                x=accentd[x]\n",
    "                                accented=True\n",
    "                        w2+=[x]\n",
    "                    w=''.join(w2)\n",
    "                    \n",
    "                md=w#f'{row.syll_str}'\n",
    "                if row.is_s: md=f'<b>{md}</b>'\n",
    "                #if row.is_s: md=f'<u>{md}</u>'\n",
    "                #if row.is_w: md=f'<i>{md}</i>'\n",
    "                #if row.is_stressed: md=f'<i>{md}</i>'\n",
    "                if row['*total']>0:\n",
    "                    # md=f'<span style=\"color:darkred\">{md}</span>'\n",
    "                    md=f'<font style=\"color:darkred\">{md}</font>'\n",
    "                    # md=f'<i>{md}</i>'\n",
    "                md=f'{wpref}{md}{wsuf}'\n",
    "                mdword+=[md]\n",
    "            mdrow.append(''.join(mdword))\n",
    "        mdline.append(''.join(mdrow))\n",
    "    \n",
    "    # spltr='\\n * '\n",
    "    # o=spltr + spltr.join(mdline)#.replace('</u> <u>',' ')\n",
    "    o=' | '.join(mdline)#.replace('</u> <u>',' ')\n",
    "    return o"
   ]
  },
  {
   "cell_type": "code",
   "execution_count": 12,
   "metadata": {},
   "outputs": [],
   "source": [
    "def show_parse(dfparse):\n",
    "    \n",
    "    "
   ]
  },
  {
   "cell_type": "code",
   "execution_count": null,
   "metadata": {},
   "outputs": [],
   "source": []
  }
 ],
 "metadata": {
  "interpreter": {
   "hash": "8d9a62951c4de3cec93df06e5a8769682e2513316501195b5ad08e283a24e7b2"
  },
  "kernelspec": {
   "display_name": "Python 3.8.11 64-bit ('base': conda)",
   "language": "python",
   "name": "python3"
  },
  "language_info": {
   "codemirror_mode": {
    "name": "ipython",
    "version": 3
   },
   "file_extension": ".py",
   "mimetype": "text/x-python",
   "name": "python",
   "nbconvert_exporter": "python",
   "pygments_lexer": "ipython3",
   "version": "3.8.11"
  },
  "orig_nbformat": 4
 },
 "nbformat": 4,
 "nbformat_minor": 2
}
