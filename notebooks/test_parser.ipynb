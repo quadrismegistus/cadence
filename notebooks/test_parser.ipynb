{
 "metadata": {
  "language_info": {
   "codemirror_mode": {
    "name": "ipython",
    "version": 3
   },
   "file_extension": ".py",
   "mimetype": "text/x-python",
   "name": "python",
   "nbconvert_exporter": "python",
   "pygments_lexer": "ipython3",
   "version": "3.7.7-final"
  },
  "orig_nbformat": 2,
  "kernelspec": {
   "name": "python37764bit686b23b387564d06bfd55da2c42a5653",
   "display_name": "Python 3.7.7 64-bit",
   "language": "python"
  }
 },
 "nbformat": 4,
 "nbformat_minor": 2,
 "cells": [
  {
   "cell_type": "code",
   "execution_count": 1,
   "metadata": {},
   "outputs": [],
   "source": [
    "# Testing parser"
   ]
  },
  {
   "cell_type": "code",
   "execution_count": 2,
   "metadata": {},
   "outputs": [],
   "source": [
    "import sys; sys.path.append('..')\n",
    "import prosodic2 as p"
   ]
  },
  {
   "cell_type": "code",
   "execution_count": null,
   "metadata": {},
   "outputs": [],
   "source": []
  },
  {
   "cell_type": "code",
   "execution_count": 3,
   "metadata": {},
   "outputs": [
    {
     "output_type": "execute_result",
     "data": {
      "text/plain": [
       "<prosodic2.prosodic2.Text at 0x7f64f011a510>"
      ]
     },
     "metadata": {},
     "execution_count": 3
    }
   ],
   "source": [
    "# load text\n",
    "t=p.Text(\"\"\"\n",
    "BELOVED, gaze in thine own heart,\n",
    "\"\"\")\n",
    "# The holy tree is growing there;\n",
    "# From joy the holy branches start,\n",
    "# And all the trembling flowers they bear.\n",
    "# \"\"\")\n",
    "t"
   ]
  },
  {
   "cell_type": "code",
   "execution_count": null,
   "metadata": {},
   "outputs": [],
   "source": []
  },
  {
   "cell_type": "code",
   "execution_count": 4,
   "metadata": {},
   "outputs": [
    {
     "output_type": "execute_result",
     "data": {
      "text/plain": [
       "    stanza_i  line_i                           line_str  word_i word_str  \\\n",
       "0          0       0  BELOVED, gaze in thine own heart,       0  BELOVED   \n",
       "1          0       0  BELOVED, gaze in thine own heart,       0  BELOVED   \n",
       "2          0       0  BELOVED, gaze in thine own heart,       0  BELOVED   \n",
       "3          0       0  BELOVED, gaze in thine own heart,       0  BELOVED   \n",
       "4          0       0  BELOVED, gaze in thine own heart,       0  BELOVED   \n",
       "5          0       0  BELOVED, gaze in thine own heart,       1        ,   \n",
       "6          0       0  BELOVED, gaze in thine own heart,       1        ,   \n",
       "9          0       0  BELOVED, gaze in thine own heart,       2     gaze   \n",
       "10         0       0  BELOVED, gaze in thine own heart,       3       in   \n",
       "11         0       0  BELOVED, gaze in thine own heart,       3       in   \n",
       "12         0       0  BELOVED, gaze in thine own heart,       4    thine   \n",
       "13         0       0  BELOVED, gaze in thine own heart,       5      own   \n",
       "14         0       0  BELOVED, gaze in thine own heart,       6    heart   \n",
       "7          0       0  BELOVED, gaze in thine own heart,       7        ,   \n",
       "8          0       0  BELOVED, gaze in thine own heart,       7        ,   \n",
       "\n",
       "    word_ipa_i    word_ipa  syll_i syll_ipa syll_stress syll_strength  \n",
       "0            0    bɪ.'lʌvd       0       bɪ           0         False  \n",
       "1            0    bɪ.'lʌvd       1    'lʌvd           1          True  \n",
       "2            1  bɪ.'lə.vəd       0       bɪ           0         False  \n",
       "3            1  bɪ.'lə.vəd       1      'lə           1          True  \n",
       "4            1  bɪ.'lə.vəd       2      vəd           0          None  \n",
       "5            0                   0                               None  \n",
       "6            0                   0                               None  \n",
       "9            0       'geɪz       0    'geɪz           1          None  \n",
       "10           0          ɪn       0       ɪn           0          None  \n",
       "11           1         'ɪn       0      'ɪn           1          None  \n",
       "12           0       'ðaɪn       0    'ðaɪn           1          None  \n",
       "13           0        'oʊn       0     'oʊn           1          None  \n",
       "14           0       'hɑrt       0    'hɑrt           1          None  \n",
       "7            0                   0                               None  \n",
       "8            0                   0                               None  "
      ],
      "text/html": "<div>\n<style scoped>\n    .dataframe tbody tr th:only-of-type {\n        vertical-align: middle;\n    }\n\n    .dataframe tbody tr th {\n        vertical-align: top;\n    }\n\n    .dataframe thead th {\n        text-align: right;\n    }\n</style>\n<table border=\"1\" class=\"dataframe\">\n  <thead>\n    <tr style=\"text-align: right;\">\n      <th></th>\n      <th>stanza_i</th>\n      <th>line_i</th>\n      <th>line_str</th>\n      <th>word_i</th>\n      <th>word_str</th>\n      <th>word_ipa_i</th>\n      <th>word_ipa</th>\n      <th>syll_i</th>\n      <th>syll_ipa</th>\n      <th>syll_stress</th>\n      <th>syll_strength</th>\n    </tr>\n  </thead>\n  <tbody>\n    <tr>\n      <th>0</th>\n      <td>0</td>\n      <td>0</td>\n      <td>BELOVED, gaze in thine own heart,</td>\n      <td>0</td>\n      <td>BELOVED</td>\n      <td>0</td>\n      <td>bɪ.'lʌvd</td>\n      <td>0</td>\n      <td>bɪ</td>\n      <td>0</td>\n      <td>False</td>\n    </tr>\n    <tr>\n      <th>1</th>\n      <td>0</td>\n      <td>0</td>\n      <td>BELOVED, gaze in thine own heart,</td>\n      <td>0</td>\n      <td>BELOVED</td>\n      <td>0</td>\n      <td>bɪ.'lʌvd</td>\n      <td>1</td>\n      <td>'lʌvd</td>\n      <td>1</td>\n      <td>True</td>\n    </tr>\n    <tr>\n      <th>2</th>\n      <td>0</td>\n      <td>0</td>\n      <td>BELOVED, gaze in thine own heart,</td>\n      <td>0</td>\n      <td>BELOVED</td>\n      <td>1</td>\n      <td>bɪ.'lə.vəd</td>\n      <td>0</td>\n      <td>bɪ</td>\n      <td>0</td>\n      <td>False</td>\n    </tr>\n    <tr>\n      <th>3</th>\n      <td>0</td>\n      <td>0</td>\n      <td>BELOVED, gaze in thine own heart,</td>\n      <td>0</td>\n      <td>BELOVED</td>\n      <td>1</td>\n      <td>bɪ.'lə.vəd</td>\n      <td>1</td>\n      <td>'lə</td>\n      <td>1</td>\n      <td>True</td>\n    </tr>\n    <tr>\n      <th>4</th>\n      <td>0</td>\n      <td>0</td>\n      <td>BELOVED, gaze in thine own heart,</td>\n      <td>0</td>\n      <td>BELOVED</td>\n      <td>1</td>\n      <td>bɪ.'lə.vəd</td>\n      <td>2</td>\n      <td>vəd</td>\n      <td>0</td>\n      <td>None</td>\n    </tr>\n    <tr>\n      <th>5</th>\n      <td>0</td>\n      <td>0</td>\n      <td>BELOVED, gaze in thine own heart,</td>\n      <td>1</td>\n      <td>,</td>\n      <td>0</td>\n      <td></td>\n      <td>0</td>\n      <td></td>\n      <td></td>\n      <td>None</td>\n    </tr>\n    <tr>\n      <th>6</th>\n      <td>0</td>\n      <td>0</td>\n      <td>BELOVED, gaze in thine own heart,</td>\n      <td>1</td>\n      <td>,</td>\n      <td>0</td>\n      <td></td>\n      <td>0</td>\n      <td></td>\n      <td></td>\n      <td>None</td>\n    </tr>\n    <tr>\n      <th>9</th>\n      <td>0</td>\n      <td>0</td>\n      <td>BELOVED, gaze in thine own heart,</td>\n      <td>2</td>\n      <td>gaze</td>\n      <td>0</td>\n      <td>'geɪz</td>\n      <td>0</td>\n      <td>'geɪz</td>\n      <td>1</td>\n      <td>None</td>\n    </tr>\n    <tr>\n      <th>10</th>\n      <td>0</td>\n      <td>0</td>\n      <td>BELOVED, gaze in thine own heart,</td>\n      <td>3</td>\n      <td>in</td>\n      <td>0</td>\n      <td>ɪn</td>\n      <td>0</td>\n      <td>ɪn</td>\n      <td>0</td>\n      <td>None</td>\n    </tr>\n    <tr>\n      <th>11</th>\n      <td>0</td>\n      <td>0</td>\n      <td>BELOVED, gaze in thine own heart,</td>\n      <td>3</td>\n      <td>in</td>\n      <td>1</td>\n      <td>'ɪn</td>\n      <td>0</td>\n      <td>'ɪn</td>\n      <td>1</td>\n      <td>None</td>\n    </tr>\n    <tr>\n      <th>12</th>\n      <td>0</td>\n      <td>0</td>\n      <td>BELOVED, gaze in thine own heart,</td>\n      <td>4</td>\n      <td>thine</td>\n      <td>0</td>\n      <td>'ðaɪn</td>\n      <td>0</td>\n      <td>'ðaɪn</td>\n      <td>1</td>\n      <td>None</td>\n    </tr>\n    <tr>\n      <th>13</th>\n      <td>0</td>\n      <td>0</td>\n      <td>BELOVED, gaze in thine own heart,</td>\n      <td>5</td>\n      <td>own</td>\n      <td>0</td>\n      <td>'oʊn</td>\n      <td>0</td>\n      <td>'oʊn</td>\n      <td>1</td>\n      <td>None</td>\n    </tr>\n    <tr>\n      <th>14</th>\n      <td>0</td>\n      <td>0</td>\n      <td>BELOVED, gaze in thine own heart,</td>\n      <td>6</td>\n      <td>heart</td>\n      <td>0</td>\n      <td>'hɑrt</td>\n      <td>0</td>\n      <td>'hɑrt</td>\n      <td>1</td>\n      <td>None</td>\n    </tr>\n    <tr>\n      <th>7</th>\n      <td>0</td>\n      <td>0</td>\n      <td>BELOVED, gaze in thine own heart,</td>\n      <td>7</td>\n      <td>,</td>\n      <td>0</td>\n      <td></td>\n      <td>0</td>\n      <td></td>\n      <td></td>\n      <td>None</td>\n    </tr>\n    <tr>\n      <th>8</th>\n      <td>0</td>\n      <td>0</td>\n      <td>BELOVED, gaze in thine own heart,</td>\n      <td>7</td>\n      <td>,</td>\n      <td>0</td>\n      <td></td>\n      <td>0</td>\n      <td></td>\n      <td></td>\n      <td>None</td>\n    </tr>\n  </tbody>\n</table>\n</div>"
     },
     "metadata": {},
     "execution_count": 4
    }
   ],
   "source": [
    "t.df"
   ]
  },
  {
   "cell_type": "code",
   "execution_count": 5,
   "metadata": {
    "tags": []
   },
   "outputs": [
    {
     "output_type": "stream",
     "name": "stdout",
     "text": [
      "[((0, 0, \"bɪ.'lʌvd\"),\n  (2, 0, \"'geɪz\"),\n  (3, 0, 'ɪn'),\n  (4, 0, \"'ðaɪn\"),\n  (5, 0, \"'oʊn\"),\n  (6, 0, \"'hɑrt\")),\n ((0, 0, \"bɪ.'lʌvd\"),\n  (2, 0, \"'geɪz\"),\n  (3, 1, \"'ɪn\"),\n  (4, 0, \"'ðaɪn\"),\n  (5, 0, \"'oʊn\"),\n  (6, 0, \"'hɑrt\")),\n ((0, 1, \"bɪ.'lə.vəd\"),\n  (2, 0, \"'geɪz\"),\n  (3, 0, 'ɪn'),\n  (4, 0, \"'ðaɪn\"),\n  (5, 0, \"'oʊn\"),\n  (6, 0, \"'hɑrt\")),\n ((0, 1, \"bɪ.'lə.vəd\"),\n  (2, 0, \"'geɪz\"),\n  (3, 1, \"'ɪn\"),\n  (4, 0, \"'ðaɪn\"),\n  (5, 0, \"'oʊn\"),\n  (6, 0, \"'hɑrt\"))]\n"
     ]
    },
    {
     "output_type": "error",
     "ename": "NameError",
     "evalue": "name 'stop' is not defined",
     "traceback": [
      "\u001b[0;31m---------------------------------------------------------------------------\u001b[0m",
      "\u001b[0;31mNameError\u001b[0m                                 Traceback (most recent call last)",
      "\u001b[0;32m<ipython-input-5-6dc5974ca28a>\u001b[0m in \u001b[0;36m<module>\u001b[0;34m\u001b[0m\n\u001b[1;32m      1\u001b[0m \u001b[0;31m# test parser\u001b[0m\u001b[0;34m\u001b[0m\u001b[0;34m\u001b[0m\u001b[0;34m\u001b[0m\u001b[0m\n\u001b[0;32m----> 2\u001b[0;31m \u001b[0mdf\u001b[0m\u001b[0;34m=\u001b[0m\u001b[0mt\u001b[0m\u001b[0;34m.\u001b[0m\u001b[0mparse\u001b[0m\u001b[0;34m(\u001b[0m\u001b[0;34m)\u001b[0m\u001b[0;34m\u001b[0m\u001b[0;34m\u001b[0m\u001b[0m\n\u001b[0m",
      "\u001b[0;32m~/github/prosodic2/prosodic2/prosodic2.py\u001b[0m in \u001b[0;36mparse\u001b[0;34m(self)\u001b[0m\n\u001b[1;32m    352\u001b[0m \u001b[0;34m\u001b[0m\u001b[0m\n\u001b[1;32m    353\u001b[0m     \u001b[0;32mdef\u001b[0m \u001b[0mparse\u001b[0m\u001b[0;34m(\u001b[0m\u001b[0mself\u001b[0m\u001b[0;34m)\u001b[0m\u001b[0;34m:\u001b[0m\u001b[0;34m\u001b[0m\u001b[0;34m\u001b[0m\u001b[0m\n\u001b[0;32m--> 354\u001b[0;31m         \u001b[0mline2combos\u001b[0m \u001b[0;34m=\u001b[0m \u001b[0mself\u001b[0m\u001b[0;34m.\u001b[0m\u001b[0mall_phonological_combos\u001b[0m\u001b[0;34m(\u001b[0m\u001b[0;34m)\u001b[0m\u001b[0;34m\u001b[0m\u001b[0;34m\u001b[0m\u001b[0m\n\u001b[0m\u001b[1;32m    355\u001b[0m         \u001b[0;31m# line2stressstr =\u001b[0m\u001b[0;34m\u001b[0m\u001b[0;34m\u001b[0m\u001b[0;34m\u001b[0m\u001b[0m\n\u001b[1;32m    356\u001b[0m         \u001b[0mdfall\u001b[0m\u001b[0;34m=\u001b[0m\u001b[0mpd\u001b[0m\u001b[0;34m.\u001b[0m\u001b[0mDataFrame\u001b[0m\u001b[0;34m(\u001b[0m\u001b[0;34m)\u001b[0m\u001b[0;34m\u001b[0m\u001b[0;34m\u001b[0m\u001b[0m\n",
      "\u001b[0;32m~/github/prosodic2/prosodic2/prosodic2.py\u001b[0m in \u001b[0;36mall_phonological_combos\u001b[0;34m(self, df, min_words_in_phrase)\u001b[0m\n\u001b[1;32m    265\u001b[0m             \u001b[0mline2combos\u001b[0m\u001b[0;34m[\u001b[0m\u001b[0mline_i\u001b[0m\u001b[0;34m]\u001b[0m\u001b[0;34m=\u001b[0m\u001b[0mall_combos\u001b[0m\u001b[0;34m\u001b[0m\u001b[0;34m\u001b[0m\u001b[0m\n\u001b[1;32m    266\u001b[0m             \u001b[0mpprint\u001b[0m\u001b[0;34m(\u001b[0m\u001b[0mall_combos\u001b[0m\u001b[0;34m)\u001b[0m\u001b[0;34m\u001b[0m\u001b[0;34m\u001b[0m\u001b[0m\n\u001b[0;32m--> 267\u001b[0;31m             \u001b[0mstop\u001b[0m\u001b[0;34m\u001b[0m\u001b[0;34m\u001b[0m\u001b[0m\n\u001b[0m\u001b[1;32m    268\u001b[0m         \u001b[0;32mreturn\u001b[0m \u001b[0mline2combos\u001b[0m\u001b[0;34m\u001b[0m\u001b[0;34m\u001b[0m\u001b[0m\n\u001b[1;32m    269\u001b[0m \u001b[0;34m\u001b[0m\u001b[0m\n",
      "\u001b[0;31mNameError\u001b[0m: name 'stop' is not defined"
     ]
    }
   ],
   "source": [
    "# test parser\n",
    "df=t.parse()"
   ]
  },
  {
   "cell_type": "code",
   "execution_count": 6,
   "metadata": {},
   "outputs": [],
   "source": [
    "# df_mcombo_parsed.columns = ['word_i', 'syll_i', 'stanza_i', 'line_i', 'line_str', 'word_str',\n",
    "#        'word_ipa_i', 'word_ipa', 'syll_ipa', 'syll_stress', 'syll_strength',\n",
    "#        'parse', '*w/stressed', '*s/unstressed', '*w/peak', 'meter_combo_i',\n",
    "#        'meter_combo_str']"
   ]
  },
  {
   "cell_type": "code",
   "execution_count": 7,
   "metadata": {},
   "outputs": [],
   "source": [
    "# # dfmcombo = ['word_i', 'syll_i', 'stanza_i', 'line_i', 'line_str', 'word_str',\n",
    "#        'word_ipa_i', 'word_ipa', 'syll_ipa', 'syll_stress', 'syll_strength',\n",
    "#        'parse', '*w/stressed', '*s/unstressed', '*w/peak', 'meter_combo_i',"
   ]
  },
  {
   "cell_type": "code",
   "execution_count": 8,
   "metadata": {},
   "outputs": [
    {
     "output_type": "execute_result",
     "data": {
      "text/plain": [
       "                                         *w/peak  \\\n",
       "stanza_i line_i line_str                          line_combo_i stress_parse     line_combo_ipa                                     meter_combo_i meter_combo_str meter_combo_str_w word_i word_str word_ipa_i word_ipa   syll_i syll_ipa parse            \n",
       "0        0      BELOVED, gaze in thine own heart, 0.0          UP|UP|P|P|P|P|P       bɪ.'lʌvd bɪ.'lʌvd 'geɪz 'ɪn 'ðaɪn 'oʊn 'hɑrt       0.0           wwswwsw         ww|s|w|w|s|w      0      BELOVED  0          bɪ.'lʌvd   0      bɪ       w          0.0   \n",
       "                                                                                                                                                                                                                              1      'lʌvd    w          1.0   \n",
       "                                                                                                                                        1.0           wwswwss         ww|s|w|w|s|s      0      BELOVED  0          bɪ.'lʌvd   0      bɪ       w          0.0   \n",
       "                                                                                                                                                                                                                              1      'lʌvd    w          1.0   \n",
       "                                                                                                                                        2.0           wwswsww         ww|s|w|s|w|w      0      BELOVED  0          bɪ.'lʌvd   0      bɪ       w          0.0   \n",
       "...                                                                                                                                                                                                                                                      ...   \n",
       "                                                  3.0          UPU|UPU|UPU|P|U|P|P|P bɪ.'lə.vəd bɪ.'lə.vəd bɪ.'lə.vəd 'geɪz ɪn 'ðaɪn... 65.0          sswsswws        ssw|s|s|w|w|s     0      BELOVED  1          bɪ.'lə.vəd 1      'lə      s          0.0   \n",
       "                                                                                                                                        66.0          sswsswsw        ssw|s|s|w|s|w     0      BELOVED  1          bɪ.'lə.vəd 0      bɪ       s          0.0   \n",
       "                                                                                                                                                                                                                              1      'lə      s          0.0   \n",
       "                                                                                                                                        67.0          sswsswss        ssw|s|s|w|s|s     0      BELOVED  1          bɪ.'lə.vəd 0      bɪ       s          0.0   \n",
       "                                                                                                                                                                                                                              1      'lə      s          0.0   \n",
       "\n",
       "                                                                                                                                                                                                                                                    syll_stress  \\\n",
       "stanza_i line_i line_str                          line_combo_i stress_parse     line_combo_ipa                                     meter_combo_i meter_combo_str meter_combo_str_w word_i word_str word_ipa_i word_ipa   syll_i syll_ipa parse               \n",
       "0        0      BELOVED, gaze in thine own heart, 0.0          UP|UP|P|P|P|P|P       bɪ.'lʌvd bɪ.'lʌvd 'geɪz 'ɪn 'ðaɪn 'oʊn 'hɑrt       0.0           wwswwsw         ww|s|w|w|s|w      0      BELOVED  0          bɪ.'lʌvd   0      bɪ       w               0   \n",
       "                                                                                                                                                                                                                              1      'lʌvd    w               1   \n",
       "                                                                                                                                        1.0           wwswwss         ww|s|w|w|s|s      0      BELOVED  0          bɪ.'lʌvd   0      bɪ       w               0   \n",
       "                                                                                                                                                                                                                              1      'lʌvd    w               1   \n",
       "                                                                                                                                        2.0           wwswsww         ww|s|w|s|w|w      0      BELOVED  0          bɪ.'lʌvd   0      bɪ       w               0   \n",
       "...                                                                                                                                                                                                                                                         ...   \n",
       "                                                  3.0          UPU|UPU|UPU|P|U|P|P|P bɪ.'lə.vəd bɪ.'lə.vəd bɪ.'lə.vəd 'geɪz ɪn 'ðaɪn... 65.0          sswsswws        ssw|s|s|w|w|s     0      BELOVED  1          bɪ.'lə.vəd 1      'lə      s               1   \n",
       "                                                                                                                                        66.0          sswsswsw        ssw|s|s|w|s|w     0      BELOVED  1          bɪ.'lə.vəd 0      bɪ       s               0   \n",
       "                                                                                                                                                                                                                              1      'lə      s               1   \n",
       "                                                                                                                                        67.0          sswsswss        ssw|s|s|w|s|s     0      BELOVED  1          bɪ.'lə.vəd 0      bɪ       s               0   \n",
       "                                                                                                                                                                                                                              1      'lə      s               1   \n",
       "\n",
       "                                                                                                                                                                                                                                                     *w/stressed  \\\n",
       "stanza_i line_i line_str                          line_combo_i stress_parse     line_combo_ipa                                     meter_combo_i meter_combo_str meter_combo_str_w word_i word_str word_ipa_i word_ipa   syll_i syll_ipa parse                \n",
       "0        0      BELOVED, gaze in thine own heart, 0.0          UP|UP|P|P|P|P|P       bɪ.'lʌvd bɪ.'lʌvd 'geɪz 'ɪn 'ðaɪn 'oʊn 'hɑrt       0.0           wwswwsw         ww|s|w|w|s|w      0      BELOVED  0          bɪ.'lʌvd   0      bɪ       w              0.0   \n",
       "                                                                                                                                                                                                                              1      'lʌvd    w              1.0   \n",
       "                                                                                                                                        1.0           wwswwss         ww|s|w|w|s|s      0      BELOVED  0          bɪ.'lʌvd   0      bɪ       w              0.0   \n",
       "                                                                                                                                                                                                                              1      'lʌvd    w              1.0   \n",
       "                                                                                                                                        2.0           wwswsww         ww|s|w|s|w|w      0      BELOVED  0          bɪ.'lʌvd   0      bɪ       w              0.0   \n",
       "...                                                                                                                                                                                                                                                          ...   \n",
       "                                                  3.0          UPU|UPU|UPU|P|U|P|P|P bɪ.'lə.vəd bɪ.'lə.vəd bɪ.'lə.vəd 'geɪz ɪn 'ðaɪn... 65.0          sswsswws        ssw|s|s|w|w|s     0      BELOVED  1          bɪ.'lə.vəd 1      'lə      s              0.0   \n",
       "                                                                                                                                        66.0          sswsswsw        ssw|s|s|w|s|w     0      BELOVED  1          bɪ.'lə.vəd 0      bɪ       s              0.0   \n",
       "                                                                                                                                                                                                                              1      'lə      s              0.0   \n",
       "                                                                                                                                        67.0          sswsswss        ssw|s|s|w|s|s     0      BELOVED  1          bɪ.'lə.vəd 0      bɪ       s              0.0   \n",
       "                                                                                                                                                                                                                              1      'lə      s              0.0   \n",
       "\n",
       "                                                                                                                                                                                                                                                     *s/unstressed  \\\n",
       "stanza_i line_i line_str                          line_combo_i stress_parse     line_combo_ipa                                     meter_combo_i meter_combo_str meter_combo_str_w word_i word_str word_ipa_i word_ipa   syll_i syll_ipa parse                  \n",
       "0        0      BELOVED, gaze in thine own heart, 0.0          UP|UP|P|P|P|P|P       bɪ.'lʌvd bɪ.'lʌvd 'geɪz 'ɪn 'ðaɪn 'oʊn 'hɑrt       0.0           wwswwsw         ww|s|w|w|s|w      0      BELOVED  0          bɪ.'lʌvd   0      bɪ       w                0.0   \n",
       "                                                                                                                                                                                                                              1      'lʌvd    w                0.0   \n",
       "                                                                                                                                        1.0           wwswwss         ww|s|w|w|s|s      0      BELOVED  0          bɪ.'lʌvd   0      bɪ       w                0.0   \n",
       "                                                                                                                                                                                                                              1      'lʌvd    w                0.0   \n",
       "                                                                                                                                        2.0           wwswsww         ww|s|w|s|w|w      0      BELOVED  0          bɪ.'lʌvd   0      bɪ       w                0.0   \n",
       "...                                                                                                                                                                                                                                                            ...   \n",
       "                                                  3.0          UPU|UPU|UPU|P|U|P|P|P bɪ.'lə.vəd bɪ.'lə.vəd bɪ.'lə.vəd 'geɪz ɪn 'ðaɪn... 65.0          sswsswws        ssw|s|s|w|w|s     0      BELOVED  1          bɪ.'lə.vəd 1      'lə      s                0.0   \n",
       "                                                                                                                                        66.0          sswsswsw        ssw|s|s|w|s|w     0      BELOVED  1          bɪ.'lə.vəd 0      bɪ       s                1.0   \n",
       "                                                                                                                                                                                                                              1      'lə      s                0.0   \n",
       "                                                                                                                                        67.0          sswsswss        ssw|s|s|w|s|s     0      BELOVED  1          bɪ.'lə.vəd 0      bɪ       s                1.0   \n",
       "                                                                                                                                                                                                                              1      'lə      s                0.0   \n",
       "\n",
       "                                                                                                                                                                                                                                                     *total  \\\n",
       "stanza_i line_i line_str                          line_combo_i stress_parse     line_combo_ipa                                     meter_combo_i meter_combo_str meter_combo_str_w word_i word_str word_ipa_i word_ipa   syll_i syll_ipa parse           \n",
       "0        0      BELOVED, gaze in thine own heart, 0.0          UP|UP|P|P|P|P|P       bɪ.'lʌvd bɪ.'lʌvd 'geɪz 'ɪn 'ðaɪn 'oʊn 'hɑrt       0.0           wwswwsw         ww|s|w|w|s|w      0      BELOVED  0          bɪ.'lʌvd   0      bɪ       w         0.0   \n",
       "                                                                                                                                                                                                                              1      'lʌvd    w         2.0   \n",
       "                                                                                                                                        1.0           wwswwss         ww|s|w|w|s|s      0      BELOVED  0          bɪ.'lʌvd   0      bɪ       w         0.0   \n",
       "                                                                                                                                                                                                                              1      'lʌvd    w         2.0   \n",
       "                                                                                                                                        2.0           wwswsww         ww|s|w|s|w|w      0      BELOVED  0          bɪ.'lʌvd   0      bɪ       w         0.0   \n",
       "...                                                                                                                                                                                                                                                     ...   \n",
       "                                                  3.0          UPU|UPU|UPU|P|U|P|P|P bɪ.'lə.vəd bɪ.'lə.vəd bɪ.'lə.vəd 'geɪz ɪn 'ðaɪn... 65.0          sswsswws        ssw|s|s|w|w|s     0      BELOVED  1          bɪ.'lə.vəd 1      'lə      s         0.0   \n",
       "                                                                                                                                        66.0          sswsswsw        ssw|s|s|w|s|w     0      BELOVED  1          bɪ.'lə.vəd 0      bɪ       s         1.0   \n",
       "                                                                                                                                                                                                                              1      'lə      s         0.0   \n",
       "                                                                                                                                        67.0          sswsswss        ssw|s|s|w|s|s     0      BELOVED  1          bɪ.'lə.vəd 0      bɪ       s         1.0   \n",
       "                                                                                                                                                                                                                              1      'lə      s         0.0   \n",
       "\n",
       "                                                                                                                                                                                                                                                    syll_strength  \n",
       "stanza_i line_i line_str                          line_combo_i stress_parse     line_combo_ipa                                     meter_combo_i meter_combo_str meter_combo_str_w word_i word_str word_ipa_i word_ipa   syll_i syll_ipa parse                \n",
       "0        0      BELOVED, gaze in thine own heart, 0.0          UP|UP|P|P|P|P|P       bɪ.'lʌvd bɪ.'lʌvd 'geɪz 'ɪn 'ðaɪn 'oʊn 'hɑrt       0.0           wwswwsw         ww|s|w|w|s|w      0      BELOVED  0          bɪ.'lʌvd   0      bɪ       w             False  \n",
       "                                                                                                                                                                                                                              1      'lʌvd    w              True  \n",
       "                                                                                                                                        1.0           wwswwss         ww|s|w|w|s|s      0      BELOVED  0          bɪ.'lʌvd   0      bɪ       w             False  \n",
       "                                                                                                                                                                                                                              1      'lʌvd    w              True  \n",
       "                                                                                                                                        2.0           wwswsww         ww|s|w|s|w|w      0      BELOVED  0          bɪ.'lʌvd   0      bɪ       w             False  \n",
       "...                                                                                                                                                                                                                                                           ...  \n",
       "                                                  3.0          UPU|UPU|UPU|P|U|P|P|P bɪ.'lə.vəd bɪ.'lə.vəd bɪ.'lə.vəd 'geɪz ɪn 'ðaɪn... 65.0          sswsswws        ssw|s|s|w|w|s     0      BELOVED  1          bɪ.'lə.vəd 1      'lə      s              True  \n",
       "                                                                                                                                        66.0          sswsswsw        ssw|s|s|w|s|w     0      BELOVED  1          bɪ.'lə.vəd 0      bɪ       s             False  \n",
       "                                                                                                                                                                                                                              1      'lə      s              True  \n",
       "                                                                                                                                        67.0          sswsswss        ssw|s|s|w|s|s     0      BELOVED  1          bɪ.'lə.vəd 0      bɪ       s             False  \n",
       "                                                                                                                                                                                                                              1      'lə      s              True  \n",
       "\n",
       "[440 rows x 6 columns]"
      ],
      "text/html": "<div>\n<style scoped>\n    .dataframe tbody tr th:only-of-type {\n        vertical-align: middle;\n    }\n\n    .dataframe tbody tr th {\n        vertical-align: top;\n    }\n\n    .dataframe thead th {\n        text-align: right;\n    }\n</style>\n<table border=\"1\" class=\"dataframe\">\n  <thead>\n    <tr style=\"text-align: right;\">\n      <th></th>\n      <th></th>\n      <th></th>\n      <th></th>\n      <th></th>\n      <th></th>\n      <th></th>\n      <th></th>\n      <th></th>\n      <th></th>\n      <th></th>\n      <th></th>\n      <th></th>\n      <th></th>\n      <th></th>\n      <th></th>\n      <th>*w/peak</th>\n      <th>syll_stress</th>\n      <th>*w/stressed</th>\n      <th>*s/unstressed</th>\n      <th>*total</th>\n      <th>syll_strength</th>\n    </tr>\n    <tr>\n      <th>stanza_i</th>\n      <th>line_i</th>\n      <th>line_str</th>\n      <th>line_combo_i</th>\n      <th>stress_parse</th>\n      <th>line_combo_ipa</th>\n      <th>meter_combo_i</th>\n      <th>meter_combo_str</th>\n      <th>meter_combo_str_w</th>\n      <th>word_i</th>\n      <th>word_str</th>\n      <th>word_ipa_i</th>\n      <th>word_ipa</th>\n      <th>syll_i</th>\n      <th>syll_ipa</th>\n      <th>parse</th>\n      <th></th>\n      <th></th>\n      <th></th>\n      <th></th>\n      <th></th>\n      <th></th>\n    </tr>\n  </thead>\n  <tbody>\n    <tr>\n      <th rowspan=\"11\" valign=\"top\">0</th>\n      <th rowspan=\"11\" valign=\"top\">0</th>\n      <th rowspan=\"11\" valign=\"top\">BELOVED, gaze in thine own heart,</th>\n      <th rowspan=\"5\" valign=\"top\">0.0</th>\n      <th rowspan=\"5\" valign=\"top\">UP|UP|P|P|P|P|P</th>\n      <th rowspan=\"5\" valign=\"top\">bɪ.'lʌvd bɪ.'lʌvd 'geɪz 'ɪn 'ðaɪn 'oʊn 'hɑrt</th>\n      <th rowspan=\"2\" valign=\"top\">0.0</th>\n      <th rowspan=\"2\" valign=\"top\">wwswwsw</th>\n      <th rowspan=\"2\" valign=\"top\">ww|s|w|w|s|w</th>\n      <th rowspan=\"2\" valign=\"top\">0</th>\n      <th rowspan=\"2\" valign=\"top\">BELOVED</th>\n      <th rowspan=\"2\" valign=\"top\">0</th>\n      <th rowspan=\"2\" valign=\"top\">bɪ.'lʌvd</th>\n      <th>0</th>\n      <th>bɪ</th>\n      <th>w</th>\n      <td>0.0</td>\n      <td>0</td>\n      <td>0.0</td>\n      <td>0.0</td>\n      <td>0.0</td>\n      <td>False</td>\n    </tr>\n    <tr>\n      <th>1</th>\n      <th>'lʌvd</th>\n      <th>w</th>\n      <td>1.0</td>\n      <td>1</td>\n      <td>1.0</td>\n      <td>0.0</td>\n      <td>2.0</td>\n      <td>True</td>\n    </tr>\n    <tr>\n      <th rowspan=\"2\" valign=\"top\">1.0</th>\n      <th rowspan=\"2\" valign=\"top\">wwswwss</th>\n      <th rowspan=\"2\" valign=\"top\">ww|s|w|w|s|s</th>\n      <th rowspan=\"2\" valign=\"top\">0</th>\n      <th rowspan=\"2\" valign=\"top\">BELOVED</th>\n      <th rowspan=\"2\" valign=\"top\">0</th>\n      <th rowspan=\"2\" valign=\"top\">bɪ.'lʌvd</th>\n      <th>0</th>\n      <th>bɪ</th>\n      <th>w</th>\n      <td>0.0</td>\n      <td>0</td>\n      <td>0.0</td>\n      <td>0.0</td>\n      <td>0.0</td>\n      <td>False</td>\n    </tr>\n    <tr>\n      <th>1</th>\n      <th>'lʌvd</th>\n      <th>w</th>\n      <td>1.0</td>\n      <td>1</td>\n      <td>1.0</td>\n      <td>0.0</td>\n      <td>2.0</td>\n      <td>True</td>\n    </tr>\n    <tr>\n      <th>2.0</th>\n      <th>wwswsww</th>\n      <th>ww|s|w|s|w|w</th>\n      <th>0</th>\n      <th>BELOVED</th>\n      <th>0</th>\n      <th>bɪ.'lʌvd</th>\n      <th>0</th>\n      <th>bɪ</th>\n      <th>w</th>\n      <td>0.0</td>\n      <td>0</td>\n      <td>0.0</td>\n      <td>0.0</td>\n      <td>0.0</td>\n      <td>False</td>\n    </tr>\n    <tr>\n      <th>...</th>\n      <th>...</th>\n      <th>...</th>\n      <th>...</th>\n      <th>...</th>\n      <th>...</th>\n      <th>...</th>\n      <th>...</th>\n      <th>...</th>\n      <th>...</th>\n      <th>...</th>\n      <th>...</th>\n      <th>...</th>\n      <td>...</td>\n      <td>...</td>\n      <td>...</td>\n      <td>...</td>\n      <td>...</td>\n      <td>...</td>\n    </tr>\n    <tr>\n      <th rowspan=\"5\" valign=\"top\">3.0</th>\n      <th rowspan=\"5\" valign=\"top\">UPU|UPU|UPU|P|U|P|P|P</th>\n      <th rowspan=\"5\" valign=\"top\">bɪ.'lə.vəd bɪ.'lə.vəd bɪ.'lə.vəd 'geɪz ɪn 'ðaɪn 'oʊn 'hɑrt</th>\n      <th>65.0</th>\n      <th>sswsswws</th>\n      <th>ssw|s|s|w|w|s</th>\n      <th>0</th>\n      <th>BELOVED</th>\n      <th>1</th>\n      <th>bɪ.'lə.vəd</th>\n      <th>1</th>\n      <th>'lə</th>\n      <th>s</th>\n      <td>0.0</td>\n      <td>1</td>\n      <td>0.0</td>\n      <td>0.0</td>\n      <td>0.0</td>\n      <td>True</td>\n    </tr>\n    <tr>\n      <th rowspan=\"2\" valign=\"top\">66.0</th>\n      <th rowspan=\"2\" valign=\"top\">sswsswsw</th>\n      <th rowspan=\"2\" valign=\"top\">ssw|s|s|w|s|w</th>\n      <th rowspan=\"2\" valign=\"top\">0</th>\n      <th rowspan=\"2\" valign=\"top\">BELOVED</th>\n      <th rowspan=\"2\" valign=\"top\">1</th>\n      <th rowspan=\"2\" valign=\"top\">bɪ.'lə.vəd</th>\n      <th>0</th>\n      <th>bɪ</th>\n      <th>s</th>\n      <td>0.0</td>\n      <td>0</td>\n      <td>0.0</td>\n      <td>1.0</td>\n      <td>1.0</td>\n      <td>False</td>\n    </tr>\n    <tr>\n      <th>1</th>\n      <th>'lə</th>\n      <th>s</th>\n      <td>0.0</td>\n      <td>1</td>\n      <td>0.0</td>\n      <td>0.0</td>\n      <td>0.0</td>\n      <td>True</td>\n    </tr>\n    <tr>\n      <th rowspan=\"2\" valign=\"top\">67.0</th>\n      <th rowspan=\"2\" valign=\"top\">sswsswss</th>\n      <th rowspan=\"2\" valign=\"top\">ssw|s|s|w|s|s</th>\n      <th rowspan=\"2\" valign=\"top\">0</th>\n      <th rowspan=\"2\" valign=\"top\">BELOVED</th>\n      <th rowspan=\"2\" valign=\"top\">1</th>\n      <th rowspan=\"2\" valign=\"top\">bɪ.'lə.vəd</th>\n      <th>0</th>\n      <th>bɪ</th>\n      <th>s</th>\n      <td>0.0</td>\n      <td>0</td>\n      <td>0.0</td>\n      <td>1.0</td>\n      <td>1.0</td>\n      <td>False</td>\n    </tr>\n    <tr>\n      <th>1</th>\n      <th>'lə</th>\n      <th>s</th>\n      <td>0.0</td>\n      <td>1</td>\n      <td>0.0</td>\n      <td>0.0</td>\n      <td>0.0</td>\n      <td>True</td>\n    </tr>\n  </tbody>\n</table>\n<p>440 rows × 6 columns</p>\n</div>"
     },
     "metadata": {},
     "execution_count": 8
    }
   ],
   "source": [
    "# df\n",
    "df.dropna()\n",
    "# df.reset_index().line_combo_i.value_counts()\n",
    "# df.dropna().reset_index().line_i.value_counts()"
   ]
  },
  {
   "cell_type": "code",
   "execution_count": 9,
   "metadata": {},
   "outputs": [
    {
     "output_type": "execute_result",
     "data": {
      "text/plain": [
       "                                                                                                                      word_i  \\\n",
       "stanza_i line_i line_str                          line_combo_i stress_parse     meter_combo_i meter_combo_str_w           \n",
       "0        0      BELOVED, gaze in thine own heart, 1.0          UP|UP|P|U|P|P|P       17.0          ws|s|w|w|s|s           20   \n",
       "                                                                                     19.0          ws|s|w|s|w|s           20   \n",
       "                                                                                     20.0          ws|s|w|s|s|w           20   \n",
       "                                                  2.0          UPU|UPU|UPU|P|P|P|P|P 25.0          wsw|s|s|w|s|s          20   \n",
       "                                                  3.0          UPU|UPU|UPU|P|U|P|P|P 19.0          wsw|s|w|w|s|s          20   \n",
       "...                                                                                                                      ...   \n",
       "                                                                                     49.0          sws|w|s|s|w|s          20   \n",
       "                                                  2.0          UPU|UPU|UPU|P|P|P|P|P 42.0          sws|w|w|s|w|w          20   \n",
       "                                                  3.0          UPU|UPU|UPU|P|U|P|P|P 45.0          sws|w|s|w|w|s          20   \n",
       "                                                                                     46.0          sws|w|s|w|s|w          20   \n",
       "                                                                                     48.0          sws|w|s|s|w|w          20   \n",
       "\n",
       "                                                                                                                      word_ipa_i  \\\n",
       "stanza_i line_i line_str                          line_combo_i stress_parse     meter_combo_i meter_combo_str_w               \n",
       "0        0      BELOVED, gaze in thine own heart, 1.0          UP|UP|P|U|P|P|P       17.0          ws|s|w|w|s|s                0   \n",
       "                                                                                     19.0          ws|s|w|s|w|s                0   \n",
       "                                                                                     20.0          ws|s|w|s|s|w                0   \n",
       "                                                  2.0          UPU|UPU|UPU|P|P|P|P|P 25.0          wsw|s|s|w|s|s               4   \n",
       "                                                  3.0          UPU|UPU|UPU|P|U|P|P|P 19.0          wsw|s|w|w|s|s               3   \n",
       "...                                                                                                                          ...   \n",
       "                                                                                     49.0          sws|w|s|s|w|s               3   \n",
       "                                                  2.0          UPU|UPU|UPU|P|P|P|P|P 42.0          sws|w|w|s|w|w               4   \n",
       "                                                  3.0          UPU|UPU|UPU|P|U|P|P|P 45.0          sws|w|s|w|w|s               3   \n",
       "                                                                                     46.0          sws|w|s|w|s|w               3   \n",
       "                                                                                     48.0          sws|w|s|s|w|w               3   \n",
       "\n",
       "                                                                                                                      syll_i  \\\n",
       "stanza_i line_i line_str                          line_combo_i stress_parse     meter_combo_i meter_combo_str_w           \n",
       "0        0      BELOVED, gaze in thine own heart, 1.0          UP|UP|P|U|P|P|P       17.0          ws|s|w|w|s|s            1   \n",
       "                                                                                     19.0          ws|s|w|s|w|s            1   \n",
       "                                                                                     20.0          ws|s|w|s|s|w            1   \n",
       "                                                  2.0          UPU|UPU|UPU|P|P|P|P|P 25.0          wsw|s|s|w|s|s           3   \n",
       "                                                  3.0          UPU|UPU|UPU|P|U|P|P|P 19.0          wsw|s|w|w|s|s           3   \n",
       "...                                                                                                                      ...   \n",
       "                                                                                     49.0          sws|w|s|s|w|s           3   \n",
       "                                                  2.0          UPU|UPU|UPU|P|P|P|P|P 42.0          sws|w|w|s|w|w           3   \n",
       "                                                  3.0          UPU|UPU|UPU|P|U|P|P|P 45.0          sws|w|s|w|w|s           3   \n",
       "                                                                                     46.0          sws|w|s|w|s|w           3   \n",
       "                                                                                     48.0          sws|w|s|s|w|w           3   \n",
       "\n",
       "                                                                                                                      *w/peak  \\\n",
       "stanza_i line_i line_str                          line_combo_i stress_parse     meter_combo_i meter_combo_str_w            \n",
       "0        0      BELOVED, gaze in thine own heart, 1.0          UP|UP|P|U|P|P|P       17.0          ws|s|w|w|s|s           0.0   \n",
       "                                                                                     19.0          ws|s|w|s|w|s           0.0   \n",
       "                                                                                     20.0          ws|s|w|s|s|w           0.0   \n",
       "                                                  2.0          UPU|UPU|UPU|P|P|P|P|P 25.0          wsw|s|s|w|s|s          0.0   \n",
       "                                                  3.0          UPU|UPU|UPU|P|U|P|P|P 19.0          wsw|s|w|w|s|s          0.0   \n",
       "...                                                                                                                       ...   \n",
       "                                                                                     49.0          sws|w|s|s|w|s          1.0   \n",
       "                                                  2.0          UPU|UPU|UPU|P|P|P|P|P 42.0          sws|w|w|s|w|w          1.0   \n",
       "                                                  3.0          UPU|UPU|UPU|P|U|P|P|P 45.0          sws|w|s|w|w|s          1.0   \n",
       "                                                                                     46.0          sws|w|s|w|s|w          1.0   \n",
       "                                                                                     48.0          sws|w|s|s|w|w          1.0   \n",
       "\n",
       "                                                                                                                      *w/stressed  \\\n",
       "stanza_i line_i line_str                          line_combo_i stress_parse     meter_combo_i meter_combo_str_w                \n",
       "0        0      BELOVED, gaze in thine own heart, 1.0          UP|UP|P|U|P|P|P       17.0          ws|s|w|w|s|s               1.0   \n",
       "                                                                                     19.0          ws|s|w|s|w|s               1.0   \n",
       "                                                                                     20.0          ws|s|w|s|s|w               1.0   \n",
       "                                                  2.0          UPU|UPU|UPU|P|P|P|P|P 25.0          wsw|s|s|w|s|s              1.0   \n",
       "                                                  3.0          UPU|UPU|UPU|P|U|P|P|P 19.0          wsw|s|w|w|s|s              1.0   \n",
       "...                                                                                                                           ...   \n",
       "                                                                                     49.0          sws|w|s|s|w|s              3.0   \n",
       "                                                  2.0          UPU|UPU|UPU|P|P|P|P|P 42.0          sws|w|w|s|w|w              5.0   \n",
       "                                                  3.0          UPU|UPU|UPU|P|U|P|P|P 45.0          sws|w|s|w|w|s              4.0   \n",
       "                                                                                     46.0          sws|w|s|w|s|w              4.0   \n",
       "                                                                                     48.0          sws|w|s|s|w|w              4.0   \n",
       "\n",
       "                                                                                                                      *s/unstressed  \\\n",
       "stanza_i line_i line_str                          line_combo_i stress_parse     meter_combo_i meter_combo_str_w                  \n",
       "0        0      BELOVED, gaze in thine own heart, 1.0          UP|UP|P|U|P|P|P       17.0          ws|s|w|w|s|s                 0.0   \n",
       "                                                                                     19.0          ws|s|w|s|w|s                 0.0   \n",
       "                                                                                     20.0          ws|s|w|s|s|w                 0.0   \n",
       "                                                  2.0          UPU|UPU|UPU|P|P|P|P|P 25.0          wsw|s|s|w|s|s                0.0   \n",
       "                                                  3.0          UPU|UPU|UPU|P|U|P|P|P 19.0          wsw|s|w|w|s|s                0.0   \n",
       "...                                                                                                                             ...   \n",
       "                                                                                     49.0          sws|w|s|s|w|s                3.0   \n",
       "                                                  2.0          UPU|UPU|UPU|P|P|P|P|P 42.0          sws|w|w|s|w|w                2.0   \n",
       "                                                  3.0          UPU|UPU|UPU|P|U|P|P|P 45.0          sws|w|s|w|w|s                3.0   \n",
       "                                                                                     46.0          sws|w|s|w|s|w                3.0   \n",
       "                                                                                     48.0          sws|w|s|s|w|w                3.0   \n",
       "\n",
       "                                                                                                                      *total  \n",
       "stanza_i line_i line_str                          line_combo_i stress_parse     meter_combo_i meter_combo_str_w          \n",
       "0        0      BELOVED, gaze in thine own heart, 1.0          UP|UP|P|U|P|P|P       17.0          ws|s|w|w|s|s          1.0  \n",
       "                                                                                     19.0          ws|s|w|s|w|s          1.0  \n",
       "                                                                                     20.0          ws|s|w|s|s|w          1.0  \n",
       "                                                  2.0          UPU|UPU|UPU|P|P|P|P|P 25.0          wsw|s|s|w|s|s         1.0  \n",
       "                                                  3.0          UPU|UPU|UPU|P|U|P|P|P 19.0          wsw|s|w|w|s|s         1.0  \n",
       "...                                                                                                                      ...  \n",
       "                                                                                     49.0          sws|w|s|s|w|s         7.0  \n",
       "                                                  2.0          UPU|UPU|UPU|P|P|P|P|P 42.0          sws|w|w|s|w|w         8.0  \n",
       "                                                  3.0          UPU|UPU|UPU|P|U|P|P|P 45.0          sws|w|s|w|w|s         8.0  \n",
       "                                                                                     46.0          sws|w|s|w|s|w         8.0  \n",
       "                                                                                     48.0          sws|w|s|s|w|w         8.0  \n",
       "\n",
       "[220 rows x 7 columns]"
      ],
      "text/html": "<div>\n<style scoped>\n    .dataframe tbody tr th:only-of-type {\n        vertical-align: middle;\n    }\n\n    .dataframe tbody tr th {\n        vertical-align: top;\n    }\n\n    .dataframe thead th {\n        text-align: right;\n    }\n</style>\n<table border=\"1\" class=\"dataframe\">\n  <thead>\n    <tr style=\"text-align: right;\">\n      <th></th>\n      <th></th>\n      <th></th>\n      <th></th>\n      <th></th>\n      <th></th>\n      <th></th>\n      <th>word_i</th>\n      <th>word_ipa_i</th>\n      <th>syll_i</th>\n      <th>*w/peak</th>\n      <th>*w/stressed</th>\n      <th>*s/unstressed</th>\n      <th>*total</th>\n    </tr>\n    <tr>\n      <th>stanza_i</th>\n      <th>line_i</th>\n      <th>line_str</th>\n      <th>line_combo_i</th>\n      <th>stress_parse</th>\n      <th>meter_combo_i</th>\n      <th>meter_combo_str_w</th>\n      <th></th>\n      <th></th>\n      <th></th>\n      <th></th>\n      <th></th>\n      <th></th>\n      <th></th>\n    </tr>\n  </thead>\n  <tbody>\n    <tr>\n      <th rowspan=\"11\" valign=\"top\">0</th>\n      <th rowspan=\"11\" valign=\"top\">0</th>\n      <th rowspan=\"11\" valign=\"top\">BELOVED, gaze in thine own heart,</th>\n      <th rowspan=\"3\" valign=\"top\">1.0</th>\n      <th rowspan=\"3\" valign=\"top\">UP|UP|P|U|P|P|P</th>\n      <th>17.0</th>\n      <th>ws|s|w|w|s|s</th>\n      <td>20</td>\n      <td>0</td>\n      <td>1</td>\n      <td>0.0</td>\n      <td>1.0</td>\n      <td>0.0</td>\n      <td>1.0</td>\n    </tr>\n    <tr>\n      <th>19.0</th>\n      <th>ws|s|w|s|w|s</th>\n      <td>20</td>\n      <td>0</td>\n      <td>1</td>\n      <td>0.0</td>\n      <td>1.0</td>\n      <td>0.0</td>\n      <td>1.0</td>\n    </tr>\n    <tr>\n      <th>20.0</th>\n      <th>ws|s|w|s|s|w</th>\n      <td>20</td>\n      <td>0</td>\n      <td>1</td>\n      <td>0.0</td>\n      <td>1.0</td>\n      <td>0.0</td>\n      <td>1.0</td>\n    </tr>\n    <tr>\n      <th>2.0</th>\n      <th>UPU|UPU|UPU|P|P|P|P|P</th>\n      <th>25.0</th>\n      <th>wsw|s|s|w|s|s</th>\n      <td>20</td>\n      <td>4</td>\n      <td>3</td>\n      <td>0.0</td>\n      <td>1.0</td>\n      <td>0.0</td>\n      <td>1.0</td>\n    </tr>\n    <tr>\n      <th rowspan=\"3\" valign=\"top\">3.0</th>\n      <th rowspan=\"3\" valign=\"top\">UPU|UPU|UPU|P|U|P|P|P</th>\n      <th>19.0</th>\n      <th>wsw|s|w|w|s|s</th>\n      <td>20</td>\n      <td>3</td>\n      <td>3</td>\n      <td>0.0</td>\n      <td>1.0</td>\n      <td>0.0</td>\n      <td>1.0</td>\n    </tr>\n    <tr>\n      <th>...</th>\n      <th>...</th>\n      <td>...</td>\n      <td>...</td>\n      <td>...</td>\n      <td>...</td>\n      <td>...</td>\n      <td>...</td>\n      <td>...</td>\n    </tr>\n    <tr>\n      <th>49.0</th>\n      <th>sws|w|s|s|w|s</th>\n      <td>20</td>\n      <td>3</td>\n      <td>3</td>\n      <td>1.0</td>\n      <td>3.0</td>\n      <td>3.0</td>\n      <td>7.0</td>\n    </tr>\n    <tr>\n      <th>2.0</th>\n      <th>UPU|UPU|UPU|P|P|P|P|P</th>\n      <th>42.0</th>\n      <th>sws|w|w|s|w|w</th>\n      <td>20</td>\n      <td>4</td>\n      <td>3</td>\n      <td>1.0</td>\n      <td>5.0</td>\n      <td>2.0</td>\n      <td>8.0</td>\n    </tr>\n    <tr>\n      <th rowspan=\"3\" valign=\"top\">3.0</th>\n      <th rowspan=\"3\" valign=\"top\">UPU|UPU|UPU|P|U|P|P|P</th>\n      <th>45.0</th>\n      <th>sws|w|s|w|w|s</th>\n      <td>20</td>\n      <td>3</td>\n      <td>3</td>\n      <td>1.0</td>\n      <td>4.0</td>\n      <td>3.0</td>\n      <td>8.0</td>\n    </tr>\n    <tr>\n      <th>46.0</th>\n      <th>sws|w|s|w|s|w</th>\n      <td>20</td>\n      <td>3</td>\n      <td>3</td>\n      <td>1.0</td>\n      <td>4.0</td>\n      <td>3.0</td>\n      <td>8.0</td>\n    </tr>\n    <tr>\n      <th>48.0</th>\n      <th>sws|w|s|s|w|w</th>\n      <td>20</td>\n      <td>3</td>\n      <td>3</td>\n      <td>1.0</td>\n      <td>4.0</td>\n      <td>3.0</td>\n      <td>8.0</td>\n    </tr>\n  </tbody>\n</table>\n<p>220 rows × 7 columns</p>\n</div>"
     },
     "metadata": {},
     "execution_count": 9
    }
   ],
   "source": [
    "xdf=df.reset_index()\n",
    "\n",
    "gby=['stanza_i',\n",
    " 'line_i',\n",
    " 'line_str',\n",
    " 'line_combo_i',\n",
    " 'stress_parse',\n",
    " 'meter_combo_i',\n",
    "#  'meter_combo_str',\n",
    " 'meter_combo_str_w'\n",
    "]\n",
    "\n",
    "sby=['stanza_i',\n",
    " 'line_i',\n",
    " 'line_str',\n",
    " '*total']\n",
    "\n",
    "xdf.groupby(gby).sum().sort_values(sby)"
   ]
  },
  {
   "cell_type": "code",
   "execution_count": 10,
   "metadata": {},
   "outputs": [],
   "source": [
    "def getxdfcols(xdf):\n",
    "     return ['stanza_i','line_i','line_str','stress_parse','meter_combo_str'] + sorted([col for col in xdf.columns if col.startswith('*') and col!='*total'],key=lambda cn: cn.split('/')[-1]) + ['*total']"
   ]
  },
  {
   "cell_type": "code",
   "execution_count": null,
   "metadata": {},
   "outputs": [],
   "source": []
  },
  {
   "cell_type": "code",
   "execution_count": 11,
   "metadata": {},
   "outputs": [
    {
     "output_type": "execute_result",
     "data": {
      "text/plain": [
       "   stanza_i  line_i                           line_str  line_combo_i  \\\n",
       "0         0       0  BELOVED, gaze in thine own heart,           0.0   \n",
       "\n",
       "  stress_parse                                line_combo_ipa  \\\n",
       "0   UP|UP|P|P|P|P|P  bɪ.'lʌvd bɪ.'lʌvd 'geɪz 'ɪn 'ðaɪn 'oʊn 'hɑrt   \n",
       "\n",
       "   meter_combo_i meter_combo_str meter_combo_str_w  word_i  ...  word_ipa  \\\n",
       "0            0.0         wwswwsw      ww|s|w|w|s|w       0  ...  bɪ.'lʌvd   \n",
       "\n",
       "   syll_i syll_ipa  parse *w/peak syll_stress  *w/stressed *s/unstressed  \\\n",
       "0       0       bɪ      w     0.0           0          0.0           0.0   \n",
       "\n",
       "   *total  syll_strength  \n",
       "0     0.0          False  \n",
       "\n",
       "[1 rows x 22 columns]"
      ],
      "text/html": "<div>\n<style scoped>\n    .dataframe tbody tr th:only-of-type {\n        vertical-align: middle;\n    }\n\n    .dataframe tbody tr th {\n        vertical-align: top;\n    }\n\n    .dataframe thead th {\n        text-align: right;\n    }\n</style>\n<table border=\"1\" class=\"dataframe\">\n  <thead>\n    <tr style=\"text-align: right;\">\n      <th></th>\n      <th>stanza_i</th>\n      <th>line_i</th>\n      <th>line_str</th>\n      <th>line_combo_i</th>\n      <th>stress_parse</th>\n      <th>line_combo_ipa</th>\n      <th>meter_combo_i</th>\n      <th>meter_combo_str</th>\n      <th>meter_combo_str_w</th>\n      <th>word_i</th>\n      <th>...</th>\n      <th>word_ipa</th>\n      <th>syll_i</th>\n      <th>syll_ipa</th>\n      <th>parse</th>\n      <th>*w/peak</th>\n      <th>syll_stress</th>\n      <th>*w/stressed</th>\n      <th>*s/unstressed</th>\n      <th>*total</th>\n      <th>syll_strength</th>\n    </tr>\n  </thead>\n  <tbody>\n    <tr>\n      <th>0</th>\n      <td>0</td>\n      <td>0</td>\n      <td>BELOVED, gaze in thine own heart,</td>\n      <td>0.0</td>\n      <td>UP|UP|P|P|P|P|P</td>\n      <td>bɪ.'lʌvd bɪ.'lʌvd 'geɪz 'ɪn 'ðaɪn 'oʊn 'hɑrt</td>\n      <td>0.0</td>\n      <td>wwswwsw</td>\n      <td>ww|s|w|w|s|w</td>\n      <td>0</td>\n      <td>...</td>\n      <td>bɪ.'lʌvd</td>\n      <td>0</td>\n      <td>bɪ</td>\n      <td>w</td>\n      <td>0.0</td>\n      <td>0</td>\n      <td>0.0</td>\n      <td>0.0</td>\n      <td>0.0</td>\n      <td>False</td>\n    </tr>\n  </tbody>\n</table>\n<p>1 rows × 22 columns</p>\n</div>"
     },
     "metadata": {},
     "execution_count": 11
    }
   ],
   "source": [
    "xdf.groupby(['stanza_i','line_i','line_str']).head(1).sort_values(['stanza_i','line_i'])"
   ]
  },
  {
   "cell_type": "code",
   "execution_count": 12,
   "metadata": {},
   "outputs": [
    {
     "output_type": "execute_result",
     "data": {
      "text/plain": [
       "   stanza_i  line_i                           line_str stress_parse  \\\n",
       "0         0       0  BELOVED, gaze in thine own heart,   UP|UP|P|P|P|P|P   \n",
       "\n",
       "  meter_combo_str  *w/peak  *w/stressed  *s/unstressed  *total  \n",
       "0         wwswwsw      0.0          0.0            0.0     0.0  "
      ],
      "text/html": "<div>\n<style scoped>\n    .dataframe tbody tr th:only-of-type {\n        vertical-align: middle;\n    }\n\n    .dataframe tbody tr th {\n        vertical-align: top;\n    }\n\n    .dataframe thead th {\n        text-align: right;\n    }\n</style>\n<table border=\"1\" class=\"dataframe\">\n  <thead>\n    <tr style=\"text-align: right;\">\n      <th></th>\n      <th>stanza_i</th>\n      <th>line_i</th>\n      <th>line_str</th>\n      <th>stress_parse</th>\n      <th>meter_combo_str</th>\n      <th>*w/peak</th>\n      <th>*w/stressed</th>\n      <th>*s/unstressed</th>\n      <th>*total</th>\n    </tr>\n  </thead>\n  <tbody>\n    <tr>\n      <th>0</th>\n      <td>0</td>\n      <td>0</td>\n      <td>BELOVED, gaze in thine own heart,</td>\n      <td>UP|UP|P|P|P|P|P</td>\n      <td>wwswwsw</td>\n      <td>0.0</td>\n      <td>0.0</td>\n      <td>0.0</td>\n      <td>0.0</td>\n    </tr>\n  </tbody>\n</table>\n</div>"
     },
     "metadata": {},
     "execution_count": 12
    }
   ],
   "source": [
    "best_parses = xdf.groupby(['stanza_i','line_i','line_str']).head(1).sort_values(['stanza_i','line_i'])[\n",
    "   getxdfcols(xdf)\n",
    "]\n",
    "best_parses"
   ]
  },
  {
   "cell_type": "code",
   "execution_count": 13,
   "metadata": {},
   "outputs": [
    {
     "output_type": "execute_result",
     "data": {
      "text/plain": [
       "     stanza_i  line_i                           line_str  line_combo_i  \\\n",
       "59          0       0  BELOVED, gaze in thine own heart,           1.0   \n",
       "61          0       0  BELOVED, gaze in thine own heart,           1.0   \n",
       "62          0       0  BELOVED, gaze in thine own heart,           1.0   \n",
       "109         0       0  BELOVED, gaze in thine own heart,           2.0   \n",
       "171         0       0  BELOVED, gaze in thine own heart,           3.0   \n",
       "..        ...     ...                                ...           ...   \n",
       "201         0       0  BELOVED, gaze in thine own heart,           3.0   \n",
       "126         0       0  BELOVED, gaze in thine own heart,           2.0   \n",
       "197         0       0  BELOVED, gaze in thine own heart,           3.0   \n",
       "198         0       0  BELOVED, gaze in thine own heart,           3.0   \n",
       "200         0       0  BELOVED, gaze in thine own heart,           3.0   \n",
       "\n",
       "         stress_parse  meter_combo_i meter_combo_str_w  word_i  \\\n",
       "59         UP|UP|P|U|P|P|P           17.0      ws|s|w|w|s|s      20   \n",
       "61         UP|UP|P|U|P|P|P           19.0      ws|s|w|s|w|s      20   \n",
       "62         UP|UP|P|U|P|P|P           20.0      ws|s|w|s|s|w      20   \n",
       "109  UPU|UPU|UPU|P|P|P|P|P           25.0     wsw|s|s|w|s|s      20   \n",
       "171  UPU|UPU|UPU|P|U|P|P|P           19.0     wsw|s|w|w|s|s      20   \n",
       "..                     ...            ...               ...     ...   \n",
       "201  UPU|UPU|UPU|P|U|P|P|P           49.0     sws|w|s|s|w|s      20   \n",
       "126  UPU|UPU|UPU|P|P|P|P|P           42.0     sws|w|w|s|w|w      20   \n",
       "197  UPU|UPU|UPU|P|U|P|P|P           45.0     sws|w|s|w|w|s      20   \n",
       "198  UPU|UPU|UPU|P|U|P|P|P           46.0     sws|w|s|w|s|w      20   \n",
       "200  UPU|UPU|UPU|P|U|P|P|P           48.0     sws|w|s|s|w|w      20   \n",
       "\n",
       "     word_ipa_i  syll_i  *w/peak  *w/stressed  *s/unstressed  *total  \n",
       "59            0       1      0.0          1.0            0.0     1.0  \n",
       "61            0       1      0.0          1.0            0.0     1.0  \n",
       "62            0       1      0.0          1.0            0.0     1.0  \n",
       "109           4       3      0.0          1.0            0.0     1.0  \n",
       "171           3       3      0.0          1.0            0.0     1.0  \n",
       "..          ...     ...      ...          ...            ...     ...  \n",
       "201           3       3      1.0          3.0            3.0     7.0  \n",
       "126           4       3      1.0          5.0            2.0     8.0  \n",
       "197           3       3      1.0          4.0            3.0     8.0  \n",
       "198           3       3      1.0          4.0            3.0     8.0  \n",
       "200           3       3      1.0          4.0            3.0     8.0  \n",
       "\n",
       "[220 rows x 14 columns]"
      ],
      "text/html": "<div>\n<style scoped>\n    .dataframe tbody tr th:only-of-type {\n        vertical-align: middle;\n    }\n\n    .dataframe tbody tr th {\n        vertical-align: top;\n    }\n\n    .dataframe thead th {\n        text-align: right;\n    }\n</style>\n<table border=\"1\" class=\"dataframe\">\n  <thead>\n    <tr style=\"text-align: right;\">\n      <th></th>\n      <th>stanza_i</th>\n      <th>line_i</th>\n      <th>line_str</th>\n      <th>line_combo_i</th>\n      <th>stress_parse</th>\n      <th>meter_combo_i</th>\n      <th>meter_combo_str_w</th>\n      <th>word_i</th>\n      <th>word_ipa_i</th>\n      <th>syll_i</th>\n      <th>*w/peak</th>\n      <th>*w/stressed</th>\n      <th>*s/unstressed</th>\n      <th>*total</th>\n    </tr>\n  </thead>\n  <tbody>\n    <tr>\n      <th>59</th>\n      <td>0</td>\n      <td>0</td>\n      <td>BELOVED, gaze in thine own heart,</td>\n      <td>1.0</td>\n      <td>UP|UP|P|U|P|P|P</td>\n      <td>17.0</td>\n      <td>ws|s|w|w|s|s</td>\n      <td>20</td>\n      <td>0</td>\n      <td>1</td>\n      <td>0.0</td>\n      <td>1.0</td>\n      <td>0.0</td>\n      <td>1.0</td>\n    </tr>\n    <tr>\n      <th>61</th>\n      <td>0</td>\n      <td>0</td>\n      <td>BELOVED, gaze in thine own heart,</td>\n      <td>1.0</td>\n      <td>UP|UP|P|U|P|P|P</td>\n      <td>19.0</td>\n      <td>ws|s|w|s|w|s</td>\n      <td>20</td>\n      <td>0</td>\n      <td>1</td>\n      <td>0.0</td>\n      <td>1.0</td>\n      <td>0.0</td>\n      <td>1.0</td>\n    </tr>\n    <tr>\n      <th>62</th>\n      <td>0</td>\n      <td>0</td>\n      <td>BELOVED, gaze in thine own heart,</td>\n      <td>1.0</td>\n      <td>UP|UP|P|U|P|P|P</td>\n      <td>20.0</td>\n      <td>ws|s|w|s|s|w</td>\n      <td>20</td>\n      <td>0</td>\n      <td>1</td>\n      <td>0.0</td>\n      <td>1.0</td>\n      <td>0.0</td>\n      <td>1.0</td>\n    </tr>\n    <tr>\n      <th>109</th>\n      <td>0</td>\n      <td>0</td>\n      <td>BELOVED, gaze in thine own heart,</td>\n      <td>2.0</td>\n      <td>UPU|UPU|UPU|P|P|P|P|P</td>\n      <td>25.0</td>\n      <td>wsw|s|s|w|s|s</td>\n      <td>20</td>\n      <td>4</td>\n      <td>3</td>\n      <td>0.0</td>\n      <td>1.0</td>\n      <td>0.0</td>\n      <td>1.0</td>\n    </tr>\n    <tr>\n      <th>171</th>\n      <td>0</td>\n      <td>0</td>\n      <td>BELOVED, gaze in thine own heart,</td>\n      <td>3.0</td>\n      <td>UPU|UPU|UPU|P|U|P|P|P</td>\n      <td>19.0</td>\n      <td>wsw|s|w|w|s|s</td>\n      <td>20</td>\n      <td>3</td>\n      <td>3</td>\n      <td>0.0</td>\n      <td>1.0</td>\n      <td>0.0</td>\n      <td>1.0</td>\n    </tr>\n    <tr>\n      <th>...</th>\n      <td>...</td>\n      <td>...</td>\n      <td>...</td>\n      <td>...</td>\n      <td>...</td>\n      <td>...</td>\n      <td>...</td>\n      <td>...</td>\n      <td>...</td>\n      <td>...</td>\n      <td>...</td>\n      <td>...</td>\n      <td>...</td>\n      <td>...</td>\n    </tr>\n    <tr>\n      <th>201</th>\n      <td>0</td>\n      <td>0</td>\n      <td>BELOVED, gaze in thine own heart,</td>\n      <td>3.0</td>\n      <td>UPU|UPU|UPU|P|U|P|P|P</td>\n      <td>49.0</td>\n      <td>sws|w|s|s|w|s</td>\n      <td>20</td>\n      <td>3</td>\n      <td>3</td>\n      <td>1.0</td>\n      <td>3.0</td>\n      <td>3.0</td>\n      <td>7.0</td>\n    </tr>\n    <tr>\n      <th>126</th>\n      <td>0</td>\n      <td>0</td>\n      <td>BELOVED, gaze in thine own heart,</td>\n      <td>2.0</td>\n      <td>UPU|UPU|UPU|P|P|P|P|P</td>\n      <td>42.0</td>\n      <td>sws|w|w|s|w|w</td>\n      <td>20</td>\n      <td>4</td>\n      <td>3</td>\n      <td>1.0</td>\n      <td>5.0</td>\n      <td>2.0</td>\n      <td>8.0</td>\n    </tr>\n    <tr>\n      <th>197</th>\n      <td>0</td>\n      <td>0</td>\n      <td>BELOVED, gaze in thine own heart,</td>\n      <td>3.0</td>\n      <td>UPU|UPU|UPU|P|U|P|P|P</td>\n      <td>45.0</td>\n      <td>sws|w|s|w|w|s</td>\n      <td>20</td>\n      <td>3</td>\n      <td>3</td>\n      <td>1.0</td>\n      <td>4.0</td>\n      <td>3.0</td>\n      <td>8.0</td>\n    </tr>\n    <tr>\n      <th>198</th>\n      <td>0</td>\n      <td>0</td>\n      <td>BELOVED, gaze in thine own heart,</td>\n      <td>3.0</td>\n      <td>UPU|UPU|UPU|P|U|P|P|P</td>\n      <td>46.0</td>\n      <td>sws|w|s|w|s|w</td>\n      <td>20</td>\n      <td>3</td>\n      <td>3</td>\n      <td>1.0</td>\n      <td>4.0</td>\n      <td>3.0</td>\n      <td>8.0</td>\n    </tr>\n    <tr>\n      <th>200</th>\n      <td>0</td>\n      <td>0</td>\n      <td>BELOVED, gaze in thine own heart,</td>\n      <td>3.0</td>\n      <td>UPU|UPU|UPU|P|U|P|P|P</td>\n      <td>48.0</td>\n      <td>sws|w|s|s|w|w</td>\n      <td>20</td>\n      <td>3</td>\n      <td>3</td>\n      <td>1.0</td>\n      <td>4.0</td>\n      <td>3.0</td>\n      <td>8.0</td>\n    </tr>\n  </tbody>\n</table>\n<p>220 rows × 14 columns</p>\n</div>"
     },
     "metadata": {},
     "execution_count": 13
    }
   ],
   "source": [
    "xdf.groupby(gby).sum().reset_index().sort_values(sby)"
   ]
  },
  {
   "cell_type": "code",
   "execution_count": null,
   "metadata": {},
   "outputs": [],
   "source": []
  }
 ]
}