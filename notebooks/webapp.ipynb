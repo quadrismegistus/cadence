{
 "cells": [
  {
   "cell_type": "markdown",
   "metadata": {},
   "source": [
    "# Cadence"
   ]
  },
  {
   "cell_type": "code",
   "execution_count": 1,
   "metadata": {},
   "outputs": [],
   "source": [
    "import sys; sys.path.insert(0,'..')\n",
    "#from cadence.imports import *\n",
    "import cadence as cd\n",
    "from ipywidgets.widgets import *\n",
    "output = Output()\n",
    "!rm -rf {cd.PATH_DB}"
   ]
  },
  {
   "cell_type": "code",
   "execution_count": 10,
   "metadata": {},
   "outputs": [],
   "source": [
    "# cd.Verse(\"Prison my heart in thy steel bosom's ward,\").parse(by_line=False,incl_data=False,constraints=cd.DEFAULT_CONSTRAINTS+['s_trough']).head(20)"
   ]
  },
  {
   "cell_type": "code",
   "execution_count": null,
   "metadata": {},
   "outputs": [],
   "source": [
    "# txt=\"\"\"Beshrew that heart that makes my heart to groan\n",
    "# For that deep wound it gives my friend and me!\n",
    "# Is't not enough to torture me alone,\n",
    "# But slave to slavery my sweet'st friend must be?\n",
    "# Me from myself thy cruel eye hath taken,\n",
    "# And my next self thou harder hast engross'd:\n",
    "# Of him, myself, and thee, I am forsaken;\n",
    "# A torment thrice threefold thus to be cross'd.\n",
    "# Prison my heart in thy steel bosom's ward,\n",
    "# But then my friend's heart let my poor heart bail;\n",
    "# Whoe'er keeps me, let my heart be his guard;\n",
    "# Thou canst not then use rigor in my gaol:\n",
    "# And yet thou wilt; for I, being pent in thee,\n",
    "# Perforce am thine, and all that is in me.\"\"\"\n",
    "txt=cd.en_prose_taylor"
   ]
  },
  {
   "cell_type": "code",
   "execution_count": null,
   "metadata": {},
   "outputs": [],
   "source": [
    "def parse_inp(button):\n",
    "    with output:\n",
    "        output.clear_output()\n",
    "        txt = inptext.value\n",
    "        \n",
    "        if opt_proseverse.value.startswith('Line '):\n",
    "            cls = cd.Verse\n",
    "        elif opt_proseverse.value.startswith('Phrase '):\n",
    "            cls = cd.Prose\n",
    "        elif opt_proseverse.value.startswith('Line/Phrase'):\n",
    "            cls = cd.ProseVerse\n",
    "            \n",
    "        # make text\n",
    "        # allow only one paragraph\n",
    "        txt = txt.strip().split('\\n\\n')[0]\n",
    "        # be reasonable\n",
    "        txt = txt[:2000]\n",
    "        # load text\n",
    "        text = cls(txt)\n",
    "        # parse\n",
    "        display(text.parse(\n",
    "            verbose=True,\n",
    "            by_line=True,\n",
    "            incl_data=False,\n",
    "            constraints=cd.DEFAULT_CONSTRAINTS + ['s_trough']\n",
    "        ))\n",
    "        # # show sents\n",
    "        for sent in text.sents():\n",
    "            # sent = text.para(1).sent(1)\n",
    "            display(sent.mtree())\n",
    "            display(sent.grid())"
   ]
  },
  {
   "cell_type": "code",
   "execution_count": null,
   "metadata": {},
   "outputs": [],
   "source": [
    "inptext = Textarea(value=txt, layout={'width': '600px', 'height':'95%'})\n",
    "opt_proseverse = RadioButtons(\n",
    "    options=['Line (e.g. Verse)', 'Phrase (e.g. Prose)', 'Line/Phrase (e.g. Free Verse)'],\n",
    "#    value='pineapple', # Defaults to 'pineapple'\n",
    "#    layout={'width': 'max-content'}, # If the items' names are long\n",
    "    description='Parse each:',\n",
    "    disabled=False\n",
    ")\n",
    "\n",
    "inpbutt = Button(description='Parse')\n",
    "inpbutt.on_click(parse_inp)\n",
    "optbox = VBox([inpbutt, opt_proseverse])\n",
    "inpbox = HBox([inptext, optbox], layout={'width':'100%', 'height':'300px'})"
   ]
  },
  {
   "cell_type": "code",
   "execution_count": null,
   "metadata": {},
   "outputs": [],
   "source": [
    "output.clear_output()\n",
    "display(inpbox,output)\n",
    "# inpbutt.click()"
   ]
  },
  {
   "cell_type": "code",
   "execution_count": null,
   "metadata": {},
   "outputs": [],
   "source": []
  }
 ],
 "metadata": {
  "interpreter": {
   "hash": "8d9a62951c4de3cec93df06e5a8769682e2513316501195b5ad08e283a24e7b2"
  },
  "kernelspec": {
   "display_name": "Python 3 (ipykernel)",
   "language": "python",
   "name": "python3"
  },
  "language_info": {
   "codemirror_mode": {
    "name": "ipython",
    "version": 3
   },
   "file_extension": ".py",
   "mimetype": "text/x-python",
   "name": "python",
   "nbconvert_exporter": "python",
   "pygments_lexer": "ipython3",
   "version": "3.8.11"
  }
 },
 "nbformat": 4,
 "nbformat_minor": 4
}
