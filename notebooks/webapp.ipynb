{
 "cells": [
  {
   "cell_type": "markdown",
   "metadata": {},
   "source": [
    "# Cadence"
   ]
  },
  {
   "cell_type": "code",
   "execution_count": 1,
   "metadata": {},
   "outputs": [],
   "source": [
    "import sys; sys.path.insert(0,'..')\n",
    "#from cadence.imports import *\n",
    "import cadence as cd\n",
    "from ipywidgets.widgets import *\n",
    "output = Output()\n",
    "!rm -rf {cd.PATH_DB}"
   ]
  },
  {
   "cell_type": "code",
   "execution_count": 2,
   "metadata": {},
   "outputs": [],
   "source": [
    "def parse_inp(button):\n",
    "    with output:\n",
    "        txt = inptext.value\n",
    "        text = cd.Text(txt, force=True)\n",
    "        sent = text.para(1).sent(1)\n",
    "        display(sent.grid())\n",
    "        display(text.data())"
   ]
  },
  {
   "cell_type": "code",
   "execution_count": 3,
   "metadata": {},
   "outputs": [],
   "source": [
    "inptext = Textarea(value=cd.sonnet, layout={'width': '100%', 'height':'95%'})\n",
    "inpbutt = Button(description='Parse')\n",
    "inpbutt.on_click(parse_inp)\n",
    "inpbox = HBox([inptext, inpbutt], layout={'width':'600px', 'height':'300px'})"
   ]
  },
  {
   "cell_type": "code",
   "execution_count": 4,
   "metadata": {},
   "outputs": [
    {
     "data": {
      "application/vnd.jupyter.widget-view+json": {
       "model_id": "668125cc4e5940328b544a1e783a3902",
       "version_major": 2,
       "version_minor": 0
      },
      "text/plain": [
       "HBox(children=(Textarea(value=\"How heavy do I journey on the way,\\nWhen what I seek, my weary travel's end,\\nD…"
      ]
     },
     "metadata": {},
     "output_type": "display_data"
    },
    {
     "data": {
      "application/vnd.jupyter.widget-view+json": {
       "model_id": "24a2160f7dbe48afbaa6a3bd9446b254",
       "version_major": 2,
       "version_minor": 0
      },
      "text/plain": [
       "Output()"
      ]
     },
     "metadata": {},
     "output_type": "display_data"
    }
   ],
   "source": [
    "output.clear_output()\n",
    "display(inpbox,output)\n",
    "inpbutt.click()"
   ]
  }
 ],
 "metadata": {
  "interpreter": {
   "hash": "8d9a62951c4de3cec93df06e5a8769682e2513316501195b5ad08e283a24e7b2"
  },
  "kernelspec": {
   "display_name": "Python 3 (ipykernel)",
   "language": "python",
   "name": "python3"
  },
  "language_info": {
   "codemirror_mode": {
    "name": "ipython",
    "version": 3
   },
   "file_extension": ".py",
   "mimetype": "text/x-python",
   "name": "python",
   "nbconvert_exporter": "python",
   "pygments_lexer": "ipython3",
   "version": "3.8.11"
  }
 },
 "nbformat": 4,
 "nbformat_minor": 4
}
