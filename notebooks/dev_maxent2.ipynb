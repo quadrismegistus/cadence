{
 "cells": [
  {
   "cell_type": "code",
   "execution_count": 5,
   "metadata": {},
   "outputs": [],
   "source": [
    "import sys; sys.path.insert(0,'..')\n",
    "from cadence.imports import *\n",
    "from cadence.parsers.rhythm import *"
   ]
  },
  {
   "cell_type": "code",
   "execution_count": 6,
   "metadata": {},
   "outputs": [],
   "source": [
    "class BinaryTree:\n",
    "    def __init__(\n",
    "            self,\n",
    "            label=None, \n",
    "            left=None, \n",
    "            right=None,\n",
    "            left_prom=True):\n",
    "        self.label = label\n",
    "        self.left = None\n",
    "        self.right = None\n",
    "        self.left_prom = left_prom\n",
    "\n",
    "        self.set_left(left)\n",
    "        self.set_right(right)\n",
    "\n",
    "    def set_left(self, left):\n",
    "        if left:\n",
    "            self.left = BinaryTree(left) if type(left)!=BinaryTree else left\n",
    "    def set_right(self, right):\n",
    "        if right:\n",
    "            self.right = BinaryTree(right) if type(right)!=BinaryTree else right\n",
    "\n",
    "    @property\n",
    "    def left_ws(self): return 's' if self.left_prom else 'w'\n",
    "    @property\n",
    "    def right_ws(self): return 's' if not self.left_prom else 'w'\n",
    "\n",
    "    def __repr__(self):\n",
    "        return f'({self.left}-L-{self.label}-R-{self.right})' if self.left or self.right else f'{self.label}'\n",
    "\n",
    "    def root_graph(self, G=None):\n",
    "        if G is None: G=nx.DiGraph()\n",
    "        node = f'{G.order() + 1} {self.label}'\n",
    "        # node = G.order() + 1\n",
    "        G.add_node(node, label=self.label)\n",
    "        \n",
    "        if self.left: \n",
    "            left_node, G = self.left.root_graph(G=G)\n",
    "            G.add_edge(node, left_node, label=self.left_ws)\n",
    "\n",
    "        if self.right: \n",
    "            right_node, G = self.right.root_graph(G=G)\n",
    "            G.add_edge(node, right_node, label=self.right_ws)\n",
    "\n",
    "        return node, G\n",
    "    \n",
    "    def graph(self):\n",
    "        n, G = self.root_graph()\n",
    "        return G\n",
    "\n",
    "    def draw(self):\n",
    "        return draw_graph(self.graph())\n",
    "    \n",
    "    def ascii(self, size=15, **kwargs):\n",
    "        from structout import gprint\n",
    "        G = self.graph()\n",
    "        pos=graphviz_layout(G, prog='dot')\n",
    "        for n in pos: pos[n] = (pos[n][0], -pos[n][1])\n",
    "        gprint(G,pos=pos,size=size,**kwargs)"
   ]
  },
  {
   "cell_type": "code",
   "execution_count": 7,
   "metadata": {},
   "outputs": [
    {
     "name": "stdout",
     "output_type": "stream",
     "text": [
      "             \u001b[1;37;48m.\u001b[0m\u001b[1;31;48mN\u001b[0m\u001b[1;31;48mP\u001b[0m               \n",
      "            \u001b[1;37;48m.\u001b[0m  \u001b[1;37;48m.\u001b[0m               \n",
      "            \u001b[1;37;48m.\u001b[0m  \u001b[1;37;48m.\u001b[0m               \n",
      "           \u001b[1;34;48ms\u001b[0m    \u001b[1;34;48mw\u001b[0m              \n",
      "          \u001b[1;37;48m.\u001b[0m      \u001b[1;37;48m.\u001b[0m             \n",
      "          \u001b[1;37;48m.\u001b[0m      \u001b[1;37;48m.\u001b[0m             \n",
      "         \u001b[1;34;48m.\u001b[0m        \u001b[1;34;48m.\u001b[0m            \n",
      "        \u001b[1;37;48m.\u001b[0m\u001b[1;31;48mA\u001b[0m\u001b[1;31;48mD\u001b[0m\u001b[1;31;48mJ\u001b[0m\u001b[1;31;48mP\u001b[0m      \u001b[1;31;48mN\u001b[0m\u001b[1;31;48mP\u001b[0m          \n",
      "      \u001b[1;37;48m.\u001b[0m\u001b[1;37;48m.\u001b[0m \u001b[1;37;48m.\u001b[0m         \u001b[1;37;48m.\u001b[0m\u001b[1;37;48m.\u001b[0m\u001b[1;37;48m.\u001b[0m         \n",
      "     \u001b[1;37;48m.\u001b[0m   \u001b[1;37;48m.\u001b[0m         \u001b[1;37;48m.\u001b[0m  \u001b[1;37;48m.\u001b[0m\u001b[1;37;48m.\u001b[0m       \n",
      "    \u001b[1;34;48ms\u001b[0m    \u001b[1;34;48mw\u001b[0m         \u001b[1;34;48ms\u001b[0m    \u001b[1;34;48mw\u001b[0m      \n",
      "   \u001b[1;37;48m.\u001b[0m     \u001b[1;37;48m.\u001b[0m         \u001b[1;37;48m.\u001b[0m     \u001b[1;37;48m.\u001b[0m\u001b[1;37;48m.\u001b[0m    \n",
      " \u001b[1;37;48m.\u001b[0m\u001b[1;37;48m.\u001b[0m      \u001b[1;37;48m.\u001b[0m         \u001b[1;37;48m.\u001b[0m       \u001b[1;37;48m.\u001b[0m\u001b[1;37;48m.\u001b[0m  \n",
      "\u001b[1;34;48m.\u001b[0m        \u001b[1;34;48m.\u001b[0m         \u001b[1;34;48m.\u001b[0m         \u001b[1;34;48m.\u001b[0m \n",
      "\u001b[1;31;48md\u001b[0m\u001b[1;31;48me\u001b[0m\u001b[1;31;48mw\u001b[0m      \u001b[1;31;48mc\u001b[0m\u001b[1;31;48mo\u001b[0m\u001b[1;31;48mv\u001b[0m\u001b[1;31;48me\u001b[0m\u001b[1;31;48mr\u001b[0m\u001b[1;31;48me\u001b[0m\u001b[1;31;48md\u001b[0m   \u001b[1;31;48ml\u001b[0m\u001b[1;31;48ma\u001b[0m\u001b[1;31;48mw\u001b[0m\u001b[1;31;48mn\u001b[0m       \u001b[1;31;48me\u001b[0m\n",
      "                               \n",
      "\n"
     ]
    }
   ],
   "source": [
    "btree = BinaryTree('NP')\n",
    "\n",
    "btree.set_left(\n",
    "    left=BinaryTree(\n",
    "        'ADJP',\n",
    "        'dew',\n",
    "        'covered'\n",
    "    ),\n",
    ")\n",
    "# btree.graph().edges()\n",
    "\n",
    "btree.set_right(\n",
    "    BinaryTree(\n",
    "        'NP',\n",
    "        'lawn',\n",
    "        'equipment'\n",
    "    )\n",
    ")\n",
    "\n",
    "# btree.draw()\n",
    "btree.ascii()"
   ]
  },
  {
   "cell_type": "code",
   "execution_count": null,
   "metadata": {},
   "outputs": [],
   "source": []
  },
  {
   "cell_type": "code",
   "execution_count": null,
   "metadata": {},
   "outputs": [],
   "source": []
  }
 ],
 "metadata": {
  "interpreter": {
   "hash": "8d9a62951c4de3cec93df06e5a8769682e2513316501195b5ad08e283a24e7b2"
  },
  "kernelspec": {
   "display_name": "Python 3.8.11 64-bit ('base': conda)",
   "language": "python",
   "name": "python3"
  },
  "language_info": {
   "codemirror_mode": {
    "name": "ipython",
    "version": 3
   },
   "file_extension": ".py",
   "mimetype": "text/x-python",
   "name": "python",
   "nbconvert_exporter": "python",
   "pygments_lexer": "ipython3",
   "version": "3.9.13"
  },
  "orig_nbformat": 4
 },
 "nbformat": 4,
 "nbformat_minor": 2
}
